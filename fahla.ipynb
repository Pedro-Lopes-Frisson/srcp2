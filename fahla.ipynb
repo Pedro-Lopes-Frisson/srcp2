{
 "cells": [
  {
   "cell_type": "code",
   "execution_count": 6,
   "metadata": {},
   "outputs": [
    {
     "name": "stdout",
     "output_type": "stream",
     "text": [
      "src_ip\n",
      "192.168.107.20       9225.564136\n",
      "192.168.107.160     12310.309688\n",
      "192.168.107.152     59226.634717\n",
      "192.168.107.127     78836.798314\n",
      "192.168.107.36      84253.278912\n",
      "                       ...      \n",
      "192.168.107.57     100789.442052\n",
      "192.168.107.72     102768.417439\n",
      "192.168.107.104    102805.031590\n",
      "192.168.107.188    103460.579196\n",
      "192.168.107.109    104173.192488\n",
      "Name: down_bytes, Length: 197, dtype: float64\n"
     ]
    }
   ],
   "source": [
    "# pip install pygeoip\n",
    "# pip install fastparquet \n",
    "# pip install dnspython\n",
    "import pandas as pd\n",
    "import numpy as np\n",
    "import ipaddress\n",
    "import dns.resolver\n",
    "import dns.reversename\n",
    "import pygeoip\n",
    "import datetime\n",
    "import matplotlib.pyplot as plt \n",
    "\n",
    "datafile='./test7.parquet'\n",
    "\n",
    "### IP geolocalization\n",
    "gi=pygeoip.GeoIP('./GeoIP.dat')\n",
    "gi2=pygeoip.GeoIP('./GeoIPASNum.dat')\n",
    "\"\"\" addr='193.136.73.21'\n",
    "cc=gi.country_code_by_addr(addr)\n",
    "org=gi2.org_by_addr(addr)\n",
    "print(cc,org) \"\"\"\n",
    "\n",
    "### DNS resolution\n",
    "\"\"\" addr=dns.resolver.resolve(\"www.ua.pt\", 'A')\n",
    "for a in addr:\n",
    "    print(a) \"\"\"\n",
    "    \n",
    "### Reverse DNS resolution    \n",
    "name=dns.reversename.from_address(\"193.136.172.20\")\n",
    "addr=dns.resolver.resolve(name, 'PTR')\n",
    "\n",
    "udpF=data.loc[data['proto']=='udp']\n",
    "\n",
    "#Number of UDP flows for each source IP\n",
    "nudpF=data.loc[data['proto']=='udp'].groupby(['src_ip'])['up_bytes'].count()\n",
    "\n",
    "nudpF=data.loc[data['port']==443].groupby(['src_ip'])['up_bytes'].sum().sort_values()\n",
    "\n",
    "\n",
    "#Number of UDP flows to port 443, for each source IP\n",
    "nudpF443=data.loc[(data['proto']=='udp')&(data['port']==443)].groupby(['src_ip'])['up_bytes'].count() \n",
    "\n",
    "#Average number of downloaded bytes, per flow, for each source IP\n",
    "avgUp=data.groupby(['src_ip'])['down_bytes'].mean()\n",
    "print(avgUp.sort_values())\n",
    "\n"
   ]
  },
  {
   "cell_type": "code",
   "execution_count": 7,
   "metadata": {},
   "outputs": [
    {
     "data": {
      "image/png": "[encoded data removed]",
      "text/plain": [
       "<Figure size 640x480 with 1 Axes>"
      ]
     },
     "metadata": {},
     "output_type": "display_data"
    }
   ],
   "source": [
    "\n",
    "#Total uploaded bytes to destination port 443, for each source IP, ordered from larger amount to lowest amount\n",
    "upS=data.loc[((data['port']==443))].groupby(['src_ip'])['up_bytes'].sum().sort_values(ascending=False)\n",
    "\n",
    "#Histogram of the total uploaded bytes to destination port 443, by source IP\n",
    "upS=data.loc[((data['port']==443))].groupby(['src_ip'])['up_bytes'].sum().hist()\n",
    "plt.show()\n",
    "\n",
    "#Is destination IPv4 a public address?\n",
    "NET=ipaddress.IPv4Network('192.168.103.0/24')\n",
    "bpublic=data.apply(lambda x: ipaddress.IPv4Address(x['dst_ip']) not in NET,axis=1) \n",
    "#Geolocalization of public destination adddress\n",
    "cc=data[bpublic]['dst_ip'].apply(lambda y:gi.country_code_by_addr(y)).to_frame(name='cc') \n",
    "\n"
   ]
  }
 ],
 "metadata": {
  "kernelspec": {
   "display_name": "Python 3 (ipykernel)",
   "language": "python",
   "name": "python3"
  },
  "language_info": {
   "codemirror_mode": {
    "name": "ipython",
    "version": 3
   },
   "file_extension": ".py",
   "mimetype": "text/x-python",
   "name": "python",
   "nbconvert_exporter": "python",
   "pygments_lexer": "ipython3",
   "version": "3.10.12"
  }
 },
 "nbformat": 4,
 "nbformat_minor": 4
}
