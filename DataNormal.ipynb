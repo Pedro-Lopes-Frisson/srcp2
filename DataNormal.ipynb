{
 "cells": [
  {
   "cell_type": "markdown",
   "id": "47a99958-4b05-4c21-93fd-d1112dfaaaae",
   "metadata": {},
   "source": [
    "# Normal Day Analysis"
   ]
  },
  {
   "cell_type": "code",
   "execution_count": 2,
   "id": "9eb09710-249e-4e14-8ff8-71aeb87a620d",
   "metadata": {},
   "outputs": [],
   "source": [
    "import pandas as pd\n",
    "import numpy as np\n",
    "import ipaddress\n",
    "import dns.resolver\n",
    "import dns.reversename\n",
    "import pygeoip\n",
    "import matplotlib.pyplot as plt "
   ]
  },
  {
   "cell_type": "code",
   "execution_count": 3,
   "id": "abcbba96-9d24-4a02-b4b5-e0585dcb57e2",
   "metadata": {},
   "outputs": [],
   "source": [
    "datafile='data7.parquet'"
   ]
  },
  {
   "cell_type": "code",
   "execution_count": 4,
   "id": "32b4cb30-a1b5-408a-88ed-bbd6bb38def4",
   "metadata": {},
   "outputs": [
    {
     "name": "stdout",
     "output_type": "stream",
     "text": [
      "PT AS1930 Fundacao para a Ciencia e a Tecnologia, I.P.\n"
     ]
    }
   ],
   "source": [
    "gi=pygeoip.GeoIP('./GeoIP.dat')\n",
    "gi2=pygeoip.GeoIP('./GeoIPASNum.dat')\n",
    "addr='193.136.73.21'\n",
    "cc=gi.country_code_by_addr(addr)\n",
    "org=gi2.org_by_addr(addr)\n",
    "print(cc,org)"
   ]
  },
  {
   "cell_type": "code",
   "execution_count": 5,
   "id": "2161a00e-672d-4ef0-9710-8c010ef2ffb1",
   "metadata": {},
   "outputs": [],
   "source": [
    "data=pd.read_parquet(datafile)"
   ]
  },
  {
   "cell_type": "code",
   "execution_count": 6,
   "id": "2165a57b-940d-456b-8fec-e157d3bd0af3",
   "metadata": {},
   "outputs": [
    {
     "data": {
      "text/html": [
       "<div>\n",
       "<style scoped>\n",
       "    .dataframe tbody tr th:only-of-type {\n",
       "        vertical-align: middle;\n",
       "    }\n",
       "\n",
       "    .dataframe tbody tr th {\n",
       "        vertical-align: top;\n",
       "    }\n",
       "\n",
       "    .dataframe thead th {\n",
       "        text-align: right;\n",
       "    }\n",
       "</style>\n",
       "<table border=\"1\" class=\"dataframe\">\n",
       "  <thead>\n",
       "    <tr style=\"text-align: right;\">\n",
       "      <th></th>\n",
       "      <th>timestamp</th>\n",
       "      <th>src_ip</th>\n",
       "      <th>dst_ip</th>\n",
       "      <th>proto</th>\n",
       "      <th>port</th>\n",
       "      <th>up_bytes</th>\n",
       "      <th>down_bytes</th>\n",
       "    </tr>\n",
       "    <tr>\n",
       "      <th>index</th>\n",
       "      <th></th>\n",
       "      <th></th>\n",
       "      <th></th>\n",
       "      <th></th>\n",
       "      <th></th>\n",
       "      <th></th>\n",
       "      <th></th>\n",
       "    </tr>\n",
       "  </thead>\n",
       "  <tbody>\n",
       "    <tr>\n",
       "      <th>709945</th>\n",
       "      <td>1232147</td>\n",
       "      <td>192.168.107.196</td>\n",
       "      <td>192.168.107.234</td>\n",
       "      <td>udp</td>\n",
       "      <td>53</td>\n",
       "      <td>157</td>\n",
       "      <td>224</td>\n",
       "    </tr>\n",
       "    <tr>\n",
       "      <th>709946</th>\n",
       "      <td>1232151</td>\n",
       "      <td>192.168.107.196</td>\n",
       "      <td>192.168.107.234</td>\n",
       "      <td>udp</td>\n",
       "      <td>53</td>\n",
       "      <td>157</td>\n",
       "      <td>227</td>\n",
       "    </tr>\n",
       "    <tr>\n",
       "      <th>709947</th>\n",
       "      <td>1232156</td>\n",
       "      <td>192.168.107.196</td>\n",
       "      <td>192.168.107.234</td>\n",
       "      <td>udp</td>\n",
       "      <td>53</td>\n",
       "      <td>154</td>\n",
       "      <td>219</td>\n",
       "    </tr>\n",
       "    <tr>\n",
       "      <th>709948</th>\n",
       "      <td>1232265</td>\n",
       "      <td>192.168.107.196</td>\n",
       "      <td>157.240.212.35</td>\n",
       "      <td>tcp</td>\n",
       "      <td>443</td>\n",
       "      <td>13896</td>\n",
       "      <td>113280</td>\n",
       "    </tr>\n",
       "    <tr>\n",
       "      <th>709949</th>\n",
       "      <td>1232398</td>\n",
       "      <td>192.168.107.196</td>\n",
       "      <td>157.240.212.35</td>\n",
       "      <td>tcp</td>\n",
       "      <td>443</td>\n",
       "      <td>45276</td>\n",
       "      <td>419472</td>\n",
       "    </tr>\n",
       "  </tbody>\n",
       "</table>\n",
       "</div>"
      ],
      "text/plain": [
       "        timestamp           src_ip           dst_ip proto  port  up_bytes  \\\n",
       "index                                                                       \n",
       "709945    1232147  192.168.107.196  192.168.107.234   udp    53       157   \n",
       "709946    1232151  192.168.107.196  192.168.107.234   udp    53       157   \n",
       "709947    1232156  192.168.107.196  192.168.107.234   udp    53       154   \n",
       "709948    1232265  192.168.107.196   157.240.212.35   tcp   443     13896   \n",
       "709949    1232398  192.168.107.196   157.240.212.35   tcp   443     45276   \n",
       "\n",
       "        down_bytes  \n",
       "index               \n",
       "709945         224  \n",
       "709946         227  \n",
       "709947         219  \n",
       "709948      113280  \n",
       "709949      419472  "
      ]
     },
     "execution_count": 6,
     "metadata": {},
     "output_type": "execute_result"
    }
   ],
   "source": [
    "c.head()"
   ]
  },
  {
   "cell_type": "code",
   "execution_count": null,
   "id": "ff396f73-df67-4a97-89bb-3dd43873a8a2",
   "metadata": {},
   "outputs": [],
   "source": [
    "NET=ipaddress.IPv4Network('192.168.107.0/24')\n",
    "private_dst_normal = data[data.apply(lambda x: ipaddress.IPv4Address(x['dst_ip']) in NET,axis=1)]\n",
    "\n",
    "private_dst_normal.head()\n"
   ]
  },
  {
   "cell_type": "code",
   "execution_count": null,
   "id": "40737f61-d67d-45f7-9983-48c96b6a5fd5",
   "metadata": {},
   "outputs": [],
   "source": [
    "grp_private_normal = private_dst_normal.groupby([\"proto\",\"port\"])['dst_ip'].apply(list)"
   ]
  },
  {
   "cell_type": "code",
   "execution_count": null,
   "id": "4ff93065-a395-49b3-aa1c-027a0e7b95a2",
   "metadata": {},
   "outputs": [],
   "source": [
    "print(set(grp_private_normal[('tcp', 443)]))\n",
    "print(set(grp_private_normal[('udp', 53)]))"
   ]
  },
  {
   "cell_type": "markdown",
   "id": "a0268c8a-3aea-44b2-b5bd-2644d55239ac",
   "metadata": {},
   "source": [
    "## Servers \n",
    "tcp 443 {'192.168.107.223', '192.168.107.238', '192.168.107.222', '192.168.107.226'} https\n",
    "\n",
    "udp 53 {'192.168.107.227', '192.168.107.234'} dns\n"
   ]
  },
  {
   "cell_type": "code",
   "execution_count": null,
   "id": "3a4fa524-3d64-47c0-b23c-50937f82b38a",
   "metadata": {},
   "outputs": [],
   "source": []
  },
  {
   "cell_type": "code",
   "execution_count": null,
   "id": "0dc43564-41d1-43bd-81e0-75281aa42f21",
   "metadata": {},
   "outputs": [],
   "source": []
  }
 ],
 "metadata": {
  "kernelspec": {
   "display_name": "Python 3 (ipykernel)",
   "language": "python",
   "name": "python3"
  },
  "language_info": {
   "codemirror_mode": {
    "name": "ipython",
    "version": 3
   },
   "file_extension": ".py",
   "mimetype": "text/x-python",
   "name": "python",
   "nbconvert_exporter": "python",
   "pygments_lexer": "ipython3",
   "version": "3.10.12"
  }
 },
 "nbformat": 4,
 "nbformat_minor": 5
}
