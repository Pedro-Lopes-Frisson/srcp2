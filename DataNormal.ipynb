{
 "cells": [
  {
   "cell_type": "markdown",
   "id": "47a99958-4b05-4c21-93fd-d1112dfaaaae",
   "metadata": {},
   "source": [
    "# Normal Day Analysis"
   ]
  },
  {
   "cell_type": "code",
   "execution_count": 1,
   "id": "9eb09710-249e-4e14-8ff8-71aeb87a620d",
   "metadata": {},
   "outputs": [],
   "source": [
    "import pandas as pd\n",
    "import numpy as np\n",
    "import ipaddress\n",
    "import dns.resolver\n",
    "import dns.reversename\n",
    "import pygeoip\n",
    "import matplotlib.pyplot as plt \n",
    "# Step 5: Adjust the pandas display options for better readability\n",
    "pd.set_option('display.max_columns', None)\n",
    "pd.set_option('display.width', 240)\n",
    "pd.set_option('display.colheader_justify', 'left')\n",
    "pd.set_option('display.expand_frame_repr', False)\n"
   ]
  },
  {
   "cell_type": "code",
   "execution_count": 2,
   "id": "ec87e6f3",
   "metadata": {},
   "outputs": [],
   "source": [
    "def ts_to_hour(timestamp):\n",
    "        # Convert 1/100th of seconds to total seconds\n",
    "    total_seconds = timestamp / 100\n",
    "    \n",
    "    # Calculate hours, minutes, and seconds\n",
    "    hours = int(total_seconds // 3600)\n",
    "    remaining_seconds_after_hours = total_seconds % 3600\n",
    "    minutes = int(remaining_seconds_after_hours // 60)\n",
    "    seconds = remaining_seconds_after_hours % 60\n",
    "    \n",
    "    # Format seconds to include fractional part\n",
    "    hms = f\"{hours:02}\"\n",
    "    return hms\n"
   ]
  },
  {
   "cell_type": "code",
   "execution_count": 3,
   "id": "abcbba96-9d24-4a02-b4b5-e0585dcb57e2",
   "metadata": {},
   "outputs": [],
   "source": [
    "datafile='data7.parquet'"
   ]
  },
  {
   "cell_type": "code",
   "execution_count": 4,
   "id": "32b4cb30-a1b5-408a-88ed-bbd6bb38def4",
   "metadata": {},
   "outputs": [
    {
     "name": "stdout",
     "output_type": "stream",
     "text": [
      "PT AS1930 Fundacao para a Ciencia e a Tecnologia, I.P.\n"
     ]
    }
   ],
   "source": [
    "gi=pygeoip.GeoIP('./GeoIP.dat')\n",
    "gi2=pygeoip.GeoIP('./GeoIPASNum.dat')\n",
    "addr='193.136.73.21'\n",
    "cc=gi.country_code_by_addr(addr)\n",
    "org=gi2.org_by_addr(addr)\n",
    "print(cc,org)"
   ]
  },
  {
   "cell_type": "code",
   "execution_count": 5,
   "id": "2161a00e-672d-4ef0-9710-8c010ef2ffb1",
   "metadata": {},
   "outputs": [],
   "source": [
    "data=pd.read_parquet(datafile)"
   ]
  },
  {
   "cell_type": "code",
   "execution_count": 6,
   "id": "2165a57b-940d-456b-8fec-e157d3bd0af3",
   "metadata": {},
   "outputs": [
    {
     "data": {
      "text/html": [
       "<div>\n",
       "<style scoped>\n",
       "    .dataframe tbody tr th:only-of-type {\n",
       "        vertical-align: middle;\n",
       "    }\n",
       "\n",
       "    .dataframe tbody tr th {\n",
       "        vertical-align: top;\n",
       "    }\n",
       "\n",
       "    .dataframe thead th {\n",
       "        text-align: right;\n",
       "    }\n",
       "</style>\n",
       "<table border=\"1\" class=\"dataframe\">\n",
       "  <thead>\n",
       "    <tr style=\"text-align: left;\">\n",
       "      <th></th>\n",
       "      <th>timestamp</th>\n",
       "      <th>src_ip</th>\n",
       "      <th>dst_ip</th>\n",
       "      <th>proto</th>\n",
       "      <th>port</th>\n",
       "      <th>up_bytes</th>\n",
       "      <th>down_bytes</th>\n",
       "    </tr>\n",
       "    <tr>\n",
       "      <th>index</th>\n",
       "      <th></th>\n",
       "      <th></th>\n",
       "      <th></th>\n",
       "      <th></th>\n",
       "      <th></th>\n",
       "      <th></th>\n",
       "      <th></th>\n",
       "    </tr>\n",
       "  </thead>\n",
       "  <tbody>\n",
       "    <tr>\n",
       "      <th>709945</th>\n",
       "      <td>1232147</td>\n",
       "      <td>192.168.107.196</td>\n",
       "      <td>192.168.107.234</td>\n",
       "      <td>udp</td>\n",
       "      <td>53</td>\n",
       "      <td>157</td>\n",
       "      <td>224</td>\n",
       "    </tr>\n",
       "    <tr>\n",
       "      <th>709946</th>\n",
       "      <td>1232151</td>\n",
       "      <td>192.168.107.196</td>\n",
       "      <td>192.168.107.234</td>\n",
       "      <td>udp</td>\n",
       "      <td>53</td>\n",
       "      <td>157</td>\n",
       "      <td>227</td>\n",
       "    </tr>\n",
       "    <tr>\n",
       "      <th>709947</th>\n",
       "      <td>1232156</td>\n",
       "      <td>192.168.107.196</td>\n",
       "      <td>192.168.107.234</td>\n",
       "      <td>udp</td>\n",
       "      <td>53</td>\n",
       "      <td>154</td>\n",
       "      <td>219</td>\n",
       "    </tr>\n",
       "    <tr>\n",
       "      <th>709948</th>\n",
       "      <td>1232265</td>\n",
       "      <td>192.168.107.196</td>\n",
       "      <td>157.240.212.35</td>\n",
       "      <td>tcp</td>\n",
       "      <td>443</td>\n",
       "      <td>13896</td>\n",
       "      <td>113280</td>\n",
       "    </tr>\n",
       "    <tr>\n",
       "      <th>709949</th>\n",
       "      <td>1232398</td>\n",
       "      <td>192.168.107.196</td>\n",
       "      <td>157.240.212.35</td>\n",
       "      <td>tcp</td>\n",
       "      <td>443</td>\n",
       "      <td>45276</td>\n",
       "      <td>419472</td>\n",
       "    </tr>\n",
       "  </tbody>\n",
       "</table>\n",
       "</div>"
      ],
      "text/plain": [
       "        timestamp src_ip           dst_ip           proto  port  up_bytes  down_bytes\n",
       "index                                                                                \n",
       "709945  1232147    192.168.107.196  192.168.107.234  udp    53     157        224    \n",
       "709946  1232151    192.168.107.196  192.168.107.234  udp    53     157        227    \n",
       "709947  1232156    192.168.107.196  192.168.107.234  udp    53     154        219    \n",
       "709948  1232265    192.168.107.196   157.240.212.35  tcp   443   13896     113280    \n",
       "709949  1232398    192.168.107.196   157.240.212.35  tcp   443   45276     419472    "
      ]
     },
     "execution_count": 6,
     "metadata": {},
     "output_type": "execute_result"
    }
   ],
   "source": [
    "data.head()"
   ]
  },
  {
   "cell_type": "code",
   "execution_count": 7,
   "id": "ff396f73-df67-4a97-89bb-3dd43873a8a2",
   "metadata": {},
   "outputs": [
    {
     "data": {
      "text/html": [
       "<div>\n",
       "<style scoped>\n",
       "    .dataframe tbody tr th:only-of-type {\n",
       "        vertical-align: middle;\n",
       "    }\n",
       "\n",
       "    .dataframe tbody tr th {\n",
       "        vertical-align: top;\n",
       "    }\n",
       "\n",
       "    .dataframe thead th {\n",
       "        text-align: right;\n",
       "    }\n",
       "</style>\n",
       "<table border=\"1\" class=\"dataframe\">\n",
       "  <thead>\n",
       "    <tr style=\"text-align: left;\">\n",
       "      <th></th>\n",
       "      <th>timestamp</th>\n",
       "      <th>src_ip</th>\n",
       "      <th>dst_ip</th>\n",
       "      <th>proto</th>\n",
       "      <th>port</th>\n",
       "      <th>up_bytes</th>\n",
       "      <th>down_bytes</th>\n",
       "    </tr>\n",
       "    <tr>\n",
       "      <th>index</th>\n",
       "      <th></th>\n",
       "      <th></th>\n",
       "      <th></th>\n",
       "      <th></th>\n",
       "      <th></th>\n",
       "      <th></th>\n",
       "      <th></th>\n",
       "    </tr>\n",
       "  </thead>\n",
       "  <tbody>\n",
       "    <tr>\n",
       "      <th>709945</th>\n",
       "      <td>1232147</td>\n",
       "      <td>192.168.107.196</td>\n",
       "      <td>192.168.107.234</td>\n",
       "      <td>udp</td>\n",
       "      <td>53</td>\n",
       "      <td>157</td>\n",
       "      <td>224</td>\n",
       "    </tr>\n",
       "    <tr>\n",
       "      <th>709946</th>\n",
       "      <td>1232151</td>\n",
       "      <td>192.168.107.196</td>\n",
       "      <td>192.168.107.234</td>\n",
       "      <td>udp</td>\n",
       "      <td>53</td>\n",
       "      <td>157</td>\n",
       "      <td>227</td>\n",
       "    </tr>\n",
       "    <tr>\n",
       "      <th>709947</th>\n",
       "      <td>1232156</td>\n",
       "      <td>192.168.107.196</td>\n",
       "      <td>192.168.107.234</td>\n",
       "      <td>udp</td>\n",
       "      <td>53</td>\n",
       "      <td>154</td>\n",
       "      <td>219</td>\n",
       "    </tr>\n",
       "    <tr>\n",
       "      <th>709954</th>\n",
       "      <td>1232769</td>\n",
       "      <td>192.168.107.196</td>\n",
       "      <td>192.168.107.226</td>\n",
       "      <td>tcp</td>\n",
       "      <td>443</td>\n",
       "      <td>13661</td>\n",
       "      <td>134605</td>\n",
       "    </tr>\n",
       "    <tr>\n",
       "      <th>709967</th>\n",
       "      <td>1234167</td>\n",
       "      <td>192.168.107.196</td>\n",
       "      <td>192.168.107.226</td>\n",
       "      <td>tcp</td>\n",
       "      <td>443</td>\n",
       "      <td>5129</td>\n",
       "      <td>39416</td>\n",
       "    </tr>\n",
       "  </tbody>\n",
       "</table>\n",
       "</div>"
      ],
      "text/plain": [
       "        timestamp src_ip           dst_ip           proto  port  up_bytes  down_bytes\n",
       "index                                                                                \n",
       "709945  1232147    192.168.107.196  192.168.107.234  udp    53     157        224    \n",
       "709946  1232151    192.168.107.196  192.168.107.234  udp    53     157        227    \n",
       "709947  1232156    192.168.107.196  192.168.107.234  udp    53     154        219    \n",
       "709954  1232769    192.168.107.196  192.168.107.226  tcp   443   13661     134605    \n",
       "709967  1234167    192.168.107.196  192.168.107.226  tcp   443    5129      39416    "
      ]
     },
     "execution_count": 7,
     "metadata": {},
     "output_type": "execute_result"
    }
   ],
   "source": [
    "NET=ipaddress.IPv4Network('192.168.107.0/24')\n",
    "private_dst_normal = data[data.apply(lambda x: ipaddress.IPv4Address(x['dst_ip']) in NET,axis=1)]\n",
    "\n",
    "private_dst_normal.head()\n"
   ]
  },
  {
   "cell_type": "code",
   "execution_count": 8,
   "id": "e3946f0c",
   "metadata": {},
   "outputs": [
    {
     "data": {
      "text/plain": [
       "src_ip\n",
       "192.168.107.100    {192.168.107.223, 192.168.107.226, 192.168.107...\n",
       "192.168.107.101    {192.168.107.223, 192.168.107.226, 192.168.107...\n",
       "192.168.107.102    {192.168.107.223, 192.168.107.226, 192.168.107...\n",
       "192.168.107.103    {192.168.107.223, 192.168.107.226, 192.168.107...\n",
       "192.168.107.104    {192.168.107.223, 192.168.107.226, 192.168.107...\n",
       "                                         ...                        \n",
       "192.168.107.95     {192.168.107.223, 192.168.107.226, 192.168.107...\n",
       "192.168.107.96     {192.168.107.223, 192.168.107.226, 192.168.107...\n",
       "192.168.107.97     {192.168.107.223, 192.168.107.226, 192.168.107...\n",
       "192.168.107.98     {192.168.107.223, 192.168.107.226, 192.168.107...\n",
       "192.168.107.99     {192.168.107.223, 192.168.107.226, 192.168.107...\n",
       "Name: dst_ip, Length: 199, dtype: object"
      ]
     },
     "execution_count": 8,
     "metadata": {},
     "output_type": "execute_result"
    }
   ],
   "source": [
    "private_dst_normal.groupby(\"src_ip\")[\"dst_ip\"].agg(set)"
   ]
  },
  {
   "cell_type": "markdown",
   "id": "6cdb6eaa",
   "metadata": {},
   "source": [
    "### Comunicacoes com ip's internos\n",
    "\"{'192.168.107.226', '192.168.107.223', '192.168.107.234', '192.168.107.227', '192.168.107.222', '192.168.107.238'}\""
   ]
  },
  {
   "cell_type": "code",
   "execution_count": 9,
   "id": "40737f61-d67d-45f7-9983-48c96b6a5fd5",
   "metadata": {},
   "outputs": [],
   "source": [
    "grp_private_normal = private_dst_normal.groupby([\"proto\",\"port\"])['dst_ip'].apply(list)"
   ]
  },
  {
   "cell_type": "code",
   "execution_count": 10,
   "id": "0784beb8",
   "metadata": {},
   "outputs": [
    {
     "data": {
      "text/html": [
       "<div>\n",
       "<style scoped>\n",
       "    .dataframe tbody tr th:only-of-type {\n",
       "        vertical-align: middle;\n",
       "    }\n",
       "\n",
       "    .dataframe tbody tr th {\n",
       "        vertical-align: top;\n",
       "    }\n",
       "\n",
       "    .dataframe thead th {\n",
       "        text-align: right;\n",
       "    }\n",
       "</style>\n",
       "<table border=\"1\" class=\"dataframe\">\n",
       "  <thead>\n",
       "    <tr style=\"text-align: left;\">\n",
       "      <th></th>\n",
       "      <th>src_ip</th>\n",
       "      <th>dst_ip</th>\n",
       "    </tr>\n",
       "  </thead>\n",
       "  <tbody>\n",
       "    <tr>\n",
       "      <th>44</th>\n",
       "      <td>192.168.107.140</td>\n",
       "      <td>12666</td>\n",
       "    </tr>\n",
       "    <tr>\n",
       "      <th>42</th>\n",
       "      <td>192.168.107.139</td>\n",
       "      <td>11758</td>\n",
       "    </tr>\n",
       "    <tr>\n",
       "      <th>150</th>\n",
       "      <td>192.168.107.51</td>\n",
       "      <td>11739</td>\n",
       "    </tr>\n",
       "    <tr>\n",
       "      <th>145</th>\n",
       "      <td>192.168.107.46</td>\n",
       "      <td>10673</td>\n",
       "    </tr>\n",
       "    <tr>\n",
       "      <th>169</th>\n",
       "      <td>192.168.107.70</td>\n",
       "      <td>10622</td>\n",
       "    </tr>\n",
       "    <tr>\n",
       "      <th>...</th>\n",
       "      <td>...</td>\n",
       "      <td>...</td>\n",
       "    </tr>\n",
       "    <tr>\n",
       "      <th>8</th>\n",
       "      <td>192.168.107.108</td>\n",
       "      <td>892</td>\n",
       "    </tr>\n",
       "    <tr>\n",
       "      <th>180</th>\n",
       "      <td>192.168.107.81</td>\n",
       "      <td>597</td>\n",
       "    </tr>\n",
       "    <tr>\n",
       "      <th>196</th>\n",
       "      <td>192.168.107.97</td>\n",
       "      <td>570</td>\n",
       "    </tr>\n",
       "    <tr>\n",
       "      <th>121</th>\n",
       "      <td>192.168.107.22</td>\n",
       "      <td>499</td>\n",
       "    </tr>\n",
       "    <tr>\n",
       "      <th>47</th>\n",
       "      <td>192.168.107.143</td>\n",
       "      <td>208</td>\n",
       "    </tr>\n",
       "  </tbody>\n",
       "</table>\n",
       "<p>199 rows × 2 columns</p>\n",
       "</div>"
      ],
      "text/plain": [
       "    src_ip            dst_ip\n",
       "44   192.168.107.140  12666 \n",
       "42   192.168.107.139  11758 \n",
       "150   192.168.107.51  11739 \n",
       "145   192.168.107.46  10673 \n",
       "169   192.168.107.70  10622 \n",
       "..               ...     ...\n",
       "8    192.168.107.108    892 \n",
       "180   192.168.107.81    597 \n",
       "196   192.168.107.97    570 \n",
       "121   192.168.107.22    499 \n",
       "47   192.168.107.143    208 \n",
       "\n",
       "[199 rows x 2 columns]"
      ]
     },
     "execution_count": 10,
     "metadata": {},
     "output_type": "execute_result"
    }
   ],
   "source": [
    "data.groupby(\"src_ip\")[\"dst_ip\"].count().reset_index().sort_values(by=\"dst_ip\", ascending=False)"
   ]
  },
  {
   "cell_type": "code",
   "execution_count": 11,
   "id": "5d5c64e2",
   "metadata": {},
   "outputs": [],
   "source": [
    "data_ratios = data.copy()"
   ]
  },
  {
   "cell_type": "code",
   "execution_count": 12,
   "id": "025879e3",
   "metadata": {},
   "outputs": [],
   "source": [
    "data_ratios.loc[:,\"ratio\"] = data_ratios[\"up_bytes\"] / data_ratios[\"down_bytes\"]"
   ]
  },
  {
   "cell_type": "code",
   "execution_count": 13,
   "id": "9206ee2a",
   "metadata": {},
   "outputs": [
    {
     "data": {
      "text/plain": [
       "187.3819095477387"
      ]
     },
     "execution_count": 13,
     "metadata": {},
     "output_type": "execute_result"
    }
   ],
   "source": [
    "data.groupby(\"src_ip\")[\"down_bytes\"].min().mean()"
   ]
  },
  {
   "cell_type": "markdown",
   "id": "edc30cd9",
   "metadata": {},
   "source": [
    "## Max Up bytes and down bytes on average\n",
    "66764 up bytes\n",
    "\n",
    "3959601 down bytes\n",
    "\n",
    "## Min Up bytes and down bytes on average\n",
    "\n",
    "114 up bytes\n",
    "\n",
    "187 down bytes\n",
    "\n",
    "## Min Ratio on average\n",
    "\n",
    "0.155 ratio (up/down)\n",
    "\n",
    "## Max Ratio on average\n",
    "\n",
    "0.174 ratio (up/down)\n"
   ]
  },
  {
   "cell_type": "code",
   "execution_count": 14,
   "id": "066f8889",
   "metadata": {},
   "outputs": [
    {
     "data": {
      "text/html": [
       "<div>\n",
       "<style scoped>\n",
       "    .dataframe tbody tr th:only-of-type {\n",
       "        vertical-align: middle;\n",
       "    }\n",
       "\n",
       "    .dataframe tbody tr th {\n",
       "        vertical-align: top;\n",
       "    }\n",
       "\n",
       "    .dataframe thead tr th {\n",
       "        text-align: left;\n",
       "    }\n",
       "</style>\n",
       "<table border=\"1\" class=\"dataframe\">\n",
       "  <thead>\n",
       "    <tr>\n",
       "      <th></th>\n",
       "      <th>src_ip</th>\n",
       "      <th colspan=\"3\" halign=\"left\">up_bytes</th>\n",
       "      <th colspan=\"3\" halign=\"left\">down_bytes</th>\n",
       "    </tr>\n",
       "    <tr>\n",
       "      <th></th>\n",
       "      <th></th>\n",
       "      <th>min</th>\n",
       "      <th>max</th>\n",
       "      <th>mean</th>\n",
       "      <th>min</th>\n",
       "      <th>max</th>\n",
       "      <th>mean</th>\n",
       "    </tr>\n",
       "  </thead>\n",
       "  <tbody>\n",
       "    <tr>\n",
       "      <th>0</th>\n",
       "      <td>192.168.107.100</td>\n",
       "      <td>134</td>\n",
       "      <td>64916</td>\n",
       "      <td>10116.875462</td>\n",
       "      <td>200</td>\n",
       "      <td>2194635</td>\n",
       "      <td>92705.122894</td>\n",
       "    </tr>\n",
       "    <tr>\n",
       "      <th>1</th>\n",
       "      <td>192.168.107.101</td>\n",
       "      <td>110</td>\n",
       "      <td>72872</td>\n",
       "      <td>10025.303948</td>\n",
       "      <td>176</td>\n",
       "      <td>3898754</td>\n",
       "      <td>94732.699947</td>\n",
       "    </tr>\n",
       "    <tr>\n",
       "      <th>2</th>\n",
       "      <td>192.168.107.102</td>\n",
       "      <td>129</td>\n",
       "      <td>78041</td>\n",
       "      <td>9678.595481</td>\n",
       "      <td>221</td>\n",
       "      <td>2814076</td>\n",
       "      <td>90240.021866</td>\n",
       "    </tr>\n",
       "    <tr>\n",
       "      <th>3</th>\n",
       "      <td>192.168.107.103</td>\n",
       "      <td>105</td>\n",
       "      <td>92018</td>\n",
       "      <td>9972.337606</td>\n",
       "      <td>168</td>\n",
       "      <td>4794581</td>\n",
       "      <td>94036.708612</td>\n",
       "    </tr>\n",
       "    <tr>\n",
       "      <th>4</th>\n",
       "      <td>192.168.107.104</td>\n",
       "      <td>108</td>\n",
       "      <td>67244</td>\n",
       "      <td>9873.292324</td>\n",
       "      <td>159</td>\n",
       "      <td>3862085</td>\n",
       "      <td>93812.450054</td>\n",
       "    </tr>\n",
       "    <tr>\n",
       "      <th>...</th>\n",
       "      <td>...</td>\n",
       "      <td>...</td>\n",
       "      <td>...</td>\n",
       "      <td>...</td>\n",
       "      <td>...</td>\n",
       "      <td>...</td>\n",
       "      <td>...</td>\n",
       "    </tr>\n",
       "    <tr>\n",
       "      <th>194</th>\n",
       "      <td>192.168.107.95</td>\n",
       "      <td>107</td>\n",
       "      <td>68304</td>\n",
       "      <td>10043.766040</td>\n",
       "      <td>151</td>\n",
       "      <td>4577195</td>\n",
       "      <td>94093.268957</td>\n",
       "    </tr>\n",
       "    <tr>\n",
       "      <th>195</th>\n",
       "      <td>192.168.107.96</td>\n",
       "      <td>121</td>\n",
       "      <td>67178</td>\n",
       "      <td>9938.511026</td>\n",
       "      <td>196</td>\n",
       "      <td>2871762</td>\n",
       "      <td>88812.157534</td>\n",
       "    </tr>\n",
       "    <tr>\n",
       "      <th>196</th>\n",
       "      <td>192.168.107.97</td>\n",
       "      <td>125</td>\n",
       "      <td>35646</td>\n",
       "      <td>9966.408772</td>\n",
       "      <td>277</td>\n",
       "      <td>371164</td>\n",
       "      <td>84183.878947</td>\n",
       "    </tr>\n",
       "    <tr>\n",
       "      <th>197</th>\n",
       "      <td>192.168.107.98</td>\n",
       "      <td>113</td>\n",
       "      <td>59741</td>\n",
       "      <td>10031.142893</td>\n",
       "      <td>175</td>\n",
       "      <td>3468603</td>\n",
       "      <td>94293.416155</td>\n",
       "    </tr>\n",
       "    <tr>\n",
       "      <th>198</th>\n",
       "      <td>192.168.107.99</td>\n",
       "      <td>139</td>\n",
       "      <td>48841</td>\n",
       "      <td>10080.663830</td>\n",
       "      <td>247</td>\n",
       "      <td>2885880</td>\n",
       "      <td>97887.336170</td>\n",
       "    </tr>\n",
       "  </tbody>\n",
       "</table>\n",
       "<p>199 rows × 7 columns</p>\n",
       "</div>"
      ],
      "text/plain": [
       "    src_ip           up_bytes                      down_bytes                       \n",
       "                     min      max    mean          min        max      mean         \n",
       "0    192.168.107.100  134      64916  10116.875462  200        2194635  92705.122894\n",
       "1    192.168.107.101  110      72872  10025.303948  176        3898754  94732.699947\n",
       "2    192.168.107.102  129      78041   9678.595481  221        2814076  90240.021866\n",
       "3    192.168.107.103  105      92018   9972.337606  168        4794581  94036.708612\n",
       "4    192.168.107.104  108      67244   9873.292324  159        3862085  93812.450054\n",
       "..               ...      ...    ...           ...        ...      ...           ...\n",
       "194   192.168.107.95  107      68304  10043.766040  151        4577195  94093.268957\n",
       "195   192.168.107.96  121      67178   9938.511026  196        2871762  88812.157534\n",
       "196   192.168.107.97  125      35646   9966.408772  277         371164  84183.878947\n",
       "197   192.168.107.98  113      59741  10031.142893  175        3468603  94293.416155\n",
       "198   192.168.107.99  139      48841  10080.663830  247        2885880  97887.336170\n",
       "\n",
       "[199 rows x 7 columns]"
      ]
     },
     "execution_count": 14,
     "metadata": {},
     "output_type": "execute_result"
    }
   ],
   "source": [
    "data.groupby(\"src_ip\").agg({\n",
    "\"up_bytes\" : [\"min\",\"max\",\"mean\"],\"down_bytes\": [\"min\",\"max\",\"mean\"]\n",
    "}).reset_index()\n"
   ]
  },
  {
   "cell_type": "markdown",
   "id": "63ca7d91",
   "metadata": {},
   "source": [
    "### Horas de trabalho"
   ]
  },
  {
   "cell_type": "code",
   "execution_count": 15,
   "id": "938b752f",
   "metadata": {},
   "outputs": [],
   "source": [
    "maxt = private_dst_normal.copy()\n"
   ]
  },
  {
   "cell_type": "code",
   "execution_count": 16,
   "id": "bc796571",
   "metadata": {},
   "outputs": [],
   "source": [
    "maxt[\"timestamp\"] = maxt[\"timestamp\"].apply(ts_to_hour)\n",
    "maxt = private_dst_normal.groupby(\"src_ip\")[\"timestamp\"].value_counts().unstack(fill_value=0)"
   ]
  },
  {
   "cell_type": "code",
   "execution_count": 17,
   "id": "e35a792e",
   "metadata": {},
   "outputs": [],
   "source": [
    "# mint.head()"
   ]
  },
  {
   "cell_type": "code",
   "execution_count": 19,
   "id": "5628872e",
   "metadata": {},
   "outputs": [
    {
     "ename": "KeyboardInterrupt",
     "evalue": "",
     "output_type": "error",
     "traceback": [
      "\u001b[0;31m---------------------------------------------------------------------------\u001b[0m",
      "\u001b[0;31mKeyboardInterrupt\u001b[0m                         Traceback (most recent call last)",
      "Cell \u001b[0;32mIn[19], line 1\u001b[0m\n\u001b[0;32m----> 1\u001b[0m maxt\u001b[38;5;241m.\u001b[39mhead()\n",
      "File \u001b[0;32m~/.local/lib/python3.10/site-packages/IPython/core/displayhook.py:268\u001b[0m, in \u001b[0;36mDisplayHook.__call__\u001b[0;34m(self, result)\u001b[0m\n\u001b[1;32m    266\u001b[0m \u001b[38;5;28mself\u001b[39m\u001b[38;5;241m.\u001b[39mstart_displayhook()\n\u001b[1;32m    267\u001b[0m \u001b[38;5;28mself\u001b[39m\u001b[38;5;241m.\u001b[39mwrite_output_prompt()\n\u001b[0;32m--> 268\u001b[0m format_dict, md_dict \u001b[38;5;241m=\u001b[39m \u001b[38;5;28;43mself\u001b[39;49m\u001b[38;5;241;43m.\u001b[39;49m\u001b[43mcompute_format_data\u001b[49m\u001b[43m(\u001b[49m\u001b[43mresult\u001b[49m\u001b[43m)\u001b[49m\n\u001b[1;32m    269\u001b[0m \u001b[38;5;28mself\u001b[39m\u001b[38;5;241m.\u001b[39mupdate_user_ns(result)\n\u001b[1;32m    270\u001b[0m \u001b[38;5;28mself\u001b[39m\u001b[38;5;241m.\u001b[39mfill_exec_result(result)\n",
      "File \u001b[0;32m~/.local/lib/python3.10/site-packages/IPython/core/displayhook.py:157\u001b[0m, in \u001b[0;36mDisplayHook.compute_format_data\u001b[0;34m(self, result)\u001b[0m\n\u001b[1;32m    127\u001b[0m \u001b[38;5;28;01mdef\u001b[39;00m \u001b[38;5;21mcompute_format_data\u001b[39m(\u001b[38;5;28mself\u001b[39m, result):\n\u001b[1;32m    128\u001b[0m \u001b[38;5;250m    \u001b[39m\u001b[38;5;124;03m\"\"\"Compute format data of the object to be displayed.\u001b[39;00m\n\u001b[1;32m    129\u001b[0m \n\u001b[1;32m    130\u001b[0m \u001b[38;5;124;03m    The format data is a generalization of the :func:`repr` of an object.\u001b[39;00m\n\u001b[0;32m   (...)\u001b[0m\n\u001b[1;32m    155\u001b[0m \n\u001b[1;32m    156\u001b[0m \u001b[38;5;124;03m    \"\"\"\u001b[39;00m\n\u001b[0;32m--> 157\u001b[0m     \u001b[38;5;28;01mreturn\u001b[39;00m \u001b[38;5;28;43mself\u001b[39;49m\u001b[38;5;241;43m.\u001b[39;49m\u001b[43mshell\u001b[49m\u001b[38;5;241;43m.\u001b[39;49m\u001b[43mdisplay_formatter\u001b[49m\u001b[38;5;241;43m.\u001b[39;49m\u001b[43mformat\u001b[49m\u001b[43m(\u001b[49m\u001b[43mresult\u001b[49m\u001b[43m)\u001b[49m\n",
      "File \u001b[0;32m~/.local/lib/python3.10/site-packages/IPython/core/formatters.py:182\u001b[0m, in \u001b[0;36mDisplayFormatter.format\u001b[0;34m(self, obj, include, exclude)\u001b[0m\n\u001b[1;32m    180\u001b[0m md \u001b[38;5;241m=\u001b[39m \u001b[38;5;28;01mNone\u001b[39;00m\n\u001b[1;32m    181\u001b[0m \u001b[38;5;28;01mtry\u001b[39;00m:\n\u001b[0;32m--> 182\u001b[0m     data \u001b[38;5;241m=\u001b[39m \u001b[43mformatter\u001b[49m\u001b[43m(\u001b[49m\u001b[43mobj\u001b[49m\u001b[43m)\u001b[49m\n\u001b[1;32m    183\u001b[0m \u001b[38;5;28;01mexcept\u001b[39;00m:\n\u001b[1;32m    184\u001b[0m     \u001b[38;5;66;03m# FIXME: log the exception\u001b[39;00m\n\u001b[1;32m    185\u001b[0m     \u001b[38;5;28;01mraise\u001b[39;00m\n",
      "File \u001b[0;32m~/.local/lib/python3.10/site-packages/decorator.py:232\u001b[0m, in \u001b[0;36mdecorate.<locals>.fun\u001b[0;34m(*args, **kw)\u001b[0m\n\u001b[1;32m    230\u001b[0m \u001b[38;5;28;01mif\u001b[39;00m \u001b[38;5;129;01mnot\u001b[39;00m kwsyntax:\n\u001b[1;32m    231\u001b[0m     args, kw \u001b[38;5;241m=\u001b[39m fix(args, kw, sig)\n\u001b[0;32m--> 232\u001b[0m \u001b[38;5;28;01mreturn\u001b[39;00m \u001b[43mcaller\u001b[49m\u001b[43m(\u001b[49m\u001b[43mfunc\u001b[49m\u001b[43m,\u001b[49m\u001b[43m \u001b[49m\u001b[38;5;241;43m*\u001b[39;49m\u001b[43m(\u001b[49m\u001b[43mextras\u001b[49m\u001b[43m \u001b[49m\u001b[38;5;241;43m+\u001b[39;49m\u001b[43m \u001b[49m\u001b[43margs\u001b[49m\u001b[43m)\u001b[49m\u001b[43m,\u001b[49m\u001b[43m \u001b[49m\u001b[38;5;241;43m*\u001b[39;49m\u001b[38;5;241;43m*\u001b[39;49m\u001b[43mkw\u001b[49m\u001b[43m)\u001b[49m\n",
      "File \u001b[0;32m~/.local/lib/python3.10/site-packages/IPython/core/formatters.py:226\u001b[0m, in \u001b[0;36mcatch_format_error\u001b[0;34m(method, self, *args, **kwargs)\u001b[0m\n\u001b[1;32m    224\u001b[0m \u001b[38;5;250m\u001b[39m\u001b[38;5;124;03m\"\"\"show traceback on failed format call\"\"\"\u001b[39;00m\n\u001b[1;32m    225\u001b[0m \u001b[38;5;28;01mtry\u001b[39;00m:\n\u001b[0;32m--> 226\u001b[0m     r \u001b[38;5;241m=\u001b[39m \u001b[43mmethod\u001b[49m\u001b[43m(\u001b[49m\u001b[38;5;28;43mself\u001b[39;49m\u001b[43m,\u001b[49m\u001b[43m \u001b[49m\u001b[38;5;241;43m*\u001b[39;49m\u001b[43margs\u001b[49m\u001b[43m,\u001b[49m\u001b[43m \u001b[49m\u001b[38;5;241;43m*\u001b[39;49m\u001b[38;5;241;43m*\u001b[39;49m\u001b[43mkwargs\u001b[49m\u001b[43m)\u001b[49m\n\u001b[1;32m    227\u001b[0m \u001b[38;5;28;01mexcept\u001b[39;00m \u001b[38;5;167;01mNotImplementedError\u001b[39;00m:\n\u001b[1;32m    228\u001b[0m     \u001b[38;5;66;03m# don't warn on NotImplementedErrors\u001b[39;00m\n\u001b[1;32m    229\u001b[0m     \u001b[38;5;28;01mreturn\u001b[39;00m \u001b[38;5;28mself\u001b[39m\u001b[38;5;241m.\u001b[39m_check_return(\u001b[38;5;28;01mNone\u001b[39;00m, args[\u001b[38;5;241m0\u001b[39m])\n",
      "File \u001b[0;32m~/.local/lib/python3.10/site-packages/IPython/core/formatters.py:711\u001b[0m, in \u001b[0;36mPlainTextFormatter.__call__\u001b[0;34m(self, obj)\u001b[0m\n\u001b[1;32m    704\u001b[0m stream \u001b[38;5;241m=\u001b[39m StringIO()\n\u001b[1;32m    705\u001b[0m printer \u001b[38;5;241m=\u001b[39m pretty\u001b[38;5;241m.\u001b[39mRepresentationPrinter(stream, \u001b[38;5;28mself\u001b[39m\u001b[38;5;241m.\u001b[39mverbose,\n\u001b[1;32m    706\u001b[0m     \u001b[38;5;28mself\u001b[39m\u001b[38;5;241m.\u001b[39mmax_width, \u001b[38;5;28mself\u001b[39m\u001b[38;5;241m.\u001b[39mnewline,\n\u001b[1;32m    707\u001b[0m     max_seq_length\u001b[38;5;241m=\u001b[39m\u001b[38;5;28mself\u001b[39m\u001b[38;5;241m.\u001b[39mmax_seq_length,\n\u001b[1;32m    708\u001b[0m     singleton_pprinters\u001b[38;5;241m=\u001b[39m\u001b[38;5;28mself\u001b[39m\u001b[38;5;241m.\u001b[39msingleton_printers,\n\u001b[1;32m    709\u001b[0m     type_pprinters\u001b[38;5;241m=\u001b[39m\u001b[38;5;28mself\u001b[39m\u001b[38;5;241m.\u001b[39mtype_printers,\n\u001b[1;32m    710\u001b[0m     deferred_pprinters\u001b[38;5;241m=\u001b[39m\u001b[38;5;28mself\u001b[39m\u001b[38;5;241m.\u001b[39mdeferred_printers)\n\u001b[0;32m--> 711\u001b[0m \u001b[43mprinter\u001b[49m\u001b[38;5;241;43m.\u001b[39;49m\u001b[43mpretty\u001b[49m\u001b[43m(\u001b[49m\u001b[43mobj\u001b[49m\u001b[43m)\u001b[49m\n\u001b[1;32m    712\u001b[0m printer\u001b[38;5;241m.\u001b[39mflush()\n\u001b[1;32m    713\u001b[0m \u001b[38;5;28;01mreturn\u001b[39;00m stream\u001b[38;5;241m.\u001b[39mgetvalue()\n",
      "File \u001b[0;32m~/.local/lib/python3.10/site-packages/IPython/lib/pretty.py:411\u001b[0m, in \u001b[0;36mRepresentationPrinter.pretty\u001b[0;34m(self, obj)\u001b[0m\n\u001b[1;32m    408\u001b[0m                         \u001b[38;5;28;01mreturn\u001b[39;00m meth(obj, \u001b[38;5;28mself\u001b[39m, cycle)\n\u001b[1;32m    409\u001b[0m                 \u001b[38;5;28;01mif\u001b[39;00m \u001b[38;5;28mcls\u001b[39m \u001b[38;5;129;01mis\u001b[39;00m \u001b[38;5;129;01mnot\u001b[39;00m \u001b[38;5;28mobject\u001b[39m \\\n\u001b[1;32m    410\u001b[0m                         \u001b[38;5;129;01mand\u001b[39;00m \u001b[38;5;28mcallable\u001b[39m(\u001b[38;5;28mcls\u001b[39m\u001b[38;5;241m.\u001b[39m\u001b[38;5;18m__dict__\u001b[39m\u001b[38;5;241m.\u001b[39mget(\u001b[38;5;124m'\u001b[39m\u001b[38;5;124m__repr__\u001b[39m\u001b[38;5;124m'\u001b[39m)):\n\u001b[0;32m--> 411\u001b[0m                     \u001b[38;5;28;01mreturn\u001b[39;00m \u001b[43m_repr_pprint\u001b[49m\u001b[43m(\u001b[49m\u001b[43mobj\u001b[49m\u001b[43m,\u001b[49m\u001b[43m \u001b[49m\u001b[38;5;28;43mself\u001b[39;49m\u001b[43m,\u001b[49m\u001b[43m \u001b[49m\u001b[43mcycle\u001b[49m\u001b[43m)\u001b[49m\n\u001b[1;32m    413\u001b[0m     \u001b[38;5;28;01mreturn\u001b[39;00m _default_pprint(obj, \u001b[38;5;28mself\u001b[39m, cycle)\n\u001b[1;32m    414\u001b[0m \u001b[38;5;28;01mfinally\u001b[39;00m:\n",
      "File \u001b[0;32m~/.local/lib/python3.10/site-packages/IPython/lib/pretty.py:779\u001b[0m, in \u001b[0;36m_repr_pprint\u001b[0;34m(obj, p, cycle)\u001b[0m\n\u001b[1;32m    777\u001b[0m \u001b[38;5;250m\u001b[39m\u001b[38;5;124;03m\"\"\"A pprint that just redirects to the normal repr function.\"\"\"\u001b[39;00m\n\u001b[1;32m    778\u001b[0m \u001b[38;5;66;03m# Find newlines and replace them with p.break_()\u001b[39;00m\n\u001b[0;32m--> 779\u001b[0m output \u001b[38;5;241m=\u001b[39m \u001b[38;5;28;43mrepr\u001b[39;49m\u001b[43m(\u001b[49m\u001b[43mobj\u001b[49m\u001b[43m)\u001b[49m\n\u001b[1;32m    780\u001b[0m lines \u001b[38;5;241m=\u001b[39m output\u001b[38;5;241m.\u001b[39msplitlines()\n\u001b[1;32m    781\u001b[0m \u001b[38;5;28;01mwith\u001b[39;00m p\u001b[38;5;241m.\u001b[39mgroup():\n",
      "File \u001b[0;32m~/.local/lib/python3.10/site-packages/pandas/core/frame.py:1214\u001b[0m, in \u001b[0;36mDataFrame.__repr__\u001b[0;34m(self)\u001b[0m\n\u001b[1;32m   1211\u001b[0m     \u001b[38;5;28;01mreturn\u001b[39;00m buf\u001b[38;5;241m.\u001b[39mgetvalue()\n\u001b[1;32m   1213\u001b[0m repr_params \u001b[38;5;241m=\u001b[39m fmt\u001b[38;5;241m.\u001b[39mget_dataframe_repr_params()\n\u001b[0;32m-> 1214\u001b[0m \u001b[38;5;28;01mreturn\u001b[39;00m \u001b[38;5;28;43mself\u001b[39;49m\u001b[38;5;241;43m.\u001b[39;49m\u001b[43mto_string\u001b[49m\u001b[43m(\u001b[49m\u001b[38;5;241;43m*\u001b[39;49m\u001b[38;5;241;43m*\u001b[39;49m\u001b[43mrepr_params\u001b[49m\u001b[43m)\u001b[49m\n",
      "File \u001b[0;32m~/.local/lib/python3.10/site-packages/pandas/util/_decorators.py:333\u001b[0m, in \u001b[0;36mdeprecate_nonkeyword_arguments.<locals>.decorate.<locals>.wrapper\u001b[0;34m(*args, **kwargs)\u001b[0m\n\u001b[1;32m    327\u001b[0m \u001b[38;5;28;01mif\u001b[39;00m \u001b[38;5;28mlen\u001b[39m(args) \u001b[38;5;241m>\u001b[39m num_allow_args:\n\u001b[1;32m    328\u001b[0m     warnings\u001b[38;5;241m.\u001b[39mwarn(\n\u001b[1;32m    329\u001b[0m         msg\u001b[38;5;241m.\u001b[39mformat(arguments\u001b[38;5;241m=\u001b[39m_format_argument_list(allow_args)),\n\u001b[1;32m    330\u001b[0m         \u001b[38;5;167;01mFutureWarning\u001b[39;00m,\n\u001b[1;32m    331\u001b[0m         stacklevel\u001b[38;5;241m=\u001b[39mfind_stack_level(),\n\u001b[1;32m    332\u001b[0m     )\n\u001b[0;32m--> 333\u001b[0m \u001b[38;5;28;01mreturn\u001b[39;00m \u001b[43mfunc\u001b[49m\u001b[43m(\u001b[49m\u001b[38;5;241;43m*\u001b[39;49m\u001b[43margs\u001b[49m\u001b[43m,\u001b[49m\u001b[43m \u001b[49m\u001b[38;5;241;43m*\u001b[39;49m\u001b[38;5;241;43m*\u001b[39;49m\u001b[43mkwargs\u001b[49m\u001b[43m)\u001b[49m\n",
      "File \u001b[0;32m~/.local/lib/python3.10/site-packages/pandas/core/frame.py:1394\u001b[0m, in \u001b[0;36mDataFrame.to_string\u001b[0;34m(self, buf, columns, col_space, header, index, na_rep, formatters, float_format, sparsify, index_names, justify, max_rows, max_cols, show_dimensions, decimal, line_width, min_rows, max_colwidth, encoding)\u001b[0m\n\u001b[1;32m   1375\u001b[0m \u001b[38;5;28;01mwith\u001b[39;00m option_context(\u001b[38;5;124m\"\u001b[39m\u001b[38;5;124mdisplay.max_colwidth\u001b[39m\u001b[38;5;124m\"\u001b[39m, max_colwidth):\n\u001b[1;32m   1376\u001b[0m     formatter \u001b[38;5;241m=\u001b[39m fmt\u001b[38;5;241m.\u001b[39mDataFrameFormatter(\n\u001b[1;32m   1377\u001b[0m         \u001b[38;5;28mself\u001b[39m,\n\u001b[1;32m   1378\u001b[0m         columns\u001b[38;5;241m=\u001b[39mcolumns,\n\u001b[0;32m   (...)\u001b[0m\n\u001b[1;32m   1392\u001b[0m         decimal\u001b[38;5;241m=\u001b[39mdecimal,\n\u001b[1;32m   1393\u001b[0m     )\n\u001b[0;32m-> 1394\u001b[0m     \u001b[38;5;28;01mreturn\u001b[39;00m \u001b[43mfmt\u001b[49m\u001b[38;5;241;43m.\u001b[39;49m\u001b[43mDataFrameRenderer\u001b[49m\u001b[43m(\u001b[49m\u001b[43mformatter\u001b[49m\u001b[43m)\u001b[49m\u001b[38;5;241;43m.\u001b[39;49m\u001b[43mto_string\u001b[49m\u001b[43m(\u001b[49m\n\u001b[1;32m   1395\u001b[0m \u001b[43m        \u001b[49m\u001b[43mbuf\u001b[49m\u001b[38;5;241;43m=\u001b[39;49m\u001b[43mbuf\u001b[49m\u001b[43m,\u001b[49m\n\u001b[1;32m   1396\u001b[0m \u001b[43m        \u001b[49m\u001b[43mencoding\u001b[49m\u001b[38;5;241;43m=\u001b[39;49m\u001b[43mencoding\u001b[49m\u001b[43m,\u001b[49m\n\u001b[1;32m   1397\u001b[0m \u001b[43m        \u001b[49m\u001b[43mline_width\u001b[49m\u001b[38;5;241;43m=\u001b[39;49m\u001b[43mline_width\u001b[49m\u001b[43m,\u001b[49m\n\u001b[1;32m   1398\u001b[0m \u001b[43m    \u001b[49m\u001b[43m)\u001b[49m\n",
      "File \u001b[0;32m~/.local/lib/python3.10/site-packages/pandas/io/formats/format.py:962\u001b[0m, in \u001b[0;36mDataFrameRenderer.to_string\u001b[0;34m(self, buf, encoding, line_width)\u001b[0m\n\u001b[1;32m    959\u001b[0m \u001b[38;5;28;01mfrom\u001b[39;00m \u001b[38;5;21;01mpandas\u001b[39;00m\u001b[38;5;21;01m.\u001b[39;00m\u001b[38;5;21;01mio\u001b[39;00m\u001b[38;5;21;01m.\u001b[39;00m\u001b[38;5;21;01mformats\u001b[39;00m\u001b[38;5;21;01m.\u001b[39;00m\u001b[38;5;21;01mstring\u001b[39;00m \u001b[38;5;28;01mimport\u001b[39;00m StringFormatter\n\u001b[1;32m    961\u001b[0m string_formatter \u001b[38;5;241m=\u001b[39m StringFormatter(\u001b[38;5;28mself\u001b[39m\u001b[38;5;241m.\u001b[39mfmt, line_width\u001b[38;5;241m=\u001b[39mline_width)\n\u001b[0;32m--> 962\u001b[0m string \u001b[38;5;241m=\u001b[39m \u001b[43mstring_formatter\u001b[49m\u001b[38;5;241;43m.\u001b[39;49m\u001b[43mto_string\u001b[49m\u001b[43m(\u001b[49m\u001b[43m)\u001b[49m\n\u001b[1;32m    963\u001b[0m \u001b[38;5;28;01mreturn\u001b[39;00m save_to_buffer(string, buf\u001b[38;5;241m=\u001b[39mbuf, encoding\u001b[38;5;241m=\u001b[39mencoding)\n",
      "File \u001b[0;32m~/.local/lib/python3.10/site-packages/pandas/io/formats/string.py:29\u001b[0m, in \u001b[0;36mStringFormatter.to_string\u001b[0;34m(self)\u001b[0m\n\u001b[1;32m     28\u001b[0m \u001b[38;5;28;01mdef\u001b[39;00m \u001b[38;5;21mto_string\u001b[39m(\u001b[38;5;28mself\u001b[39m) \u001b[38;5;241m-\u001b[39m\u001b[38;5;241m>\u001b[39m \u001b[38;5;28mstr\u001b[39m:\n\u001b[0;32m---> 29\u001b[0m     text \u001b[38;5;241m=\u001b[39m \u001b[38;5;28;43mself\u001b[39;49m\u001b[38;5;241;43m.\u001b[39;49m\u001b[43m_get_string_representation\u001b[49m\u001b[43m(\u001b[49m\u001b[43m)\u001b[49m\n\u001b[1;32m     30\u001b[0m     \u001b[38;5;28;01mif\u001b[39;00m \u001b[38;5;28mself\u001b[39m\u001b[38;5;241m.\u001b[39mfmt\u001b[38;5;241m.\u001b[39mshould_show_dimensions:\n\u001b[1;32m     31\u001b[0m         text \u001b[38;5;241m=\u001b[39m \u001b[38;5;124mf\u001b[39m\u001b[38;5;124m\"\u001b[39m\u001b[38;5;132;01m{\u001b[39;00mtext\u001b[38;5;132;01m}\u001b[39;00m\u001b[38;5;132;01m{\u001b[39;00m\u001b[38;5;28mself\u001b[39m\u001b[38;5;241m.\u001b[39mfmt\u001b[38;5;241m.\u001b[39mdimensions_info\u001b[38;5;132;01m}\u001b[39;00m\u001b[38;5;124m\"\u001b[39m\n",
      "File \u001b[0;32m~/.local/lib/python3.10/site-packages/pandas/io/formats/string.py:44\u001b[0m, in \u001b[0;36mStringFormatter._get_string_representation\u001b[0;34m(self)\u001b[0m\n\u001b[1;32m     41\u001b[0m \u001b[38;5;28;01mif\u001b[39;00m \u001b[38;5;28mself\u001b[39m\u001b[38;5;241m.\u001b[39mfmt\u001b[38;5;241m.\u001b[39mframe\u001b[38;5;241m.\u001b[39mempty:\n\u001b[1;32m     42\u001b[0m     \u001b[38;5;28;01mreturn\u001b[39;00m \u001b[38;5;28mself\u001b[39m\u001b[38;5;241m.\u001b[39m_empty_info_line\n\u001b[0;32m---> 44\u001b[0m strcols \u001b[38;5;241m=\u001b[39m \u001b[38;5;28;43mself\u001b[39;49m\u001b[38;5;241;43m.\u001b[39;49m\u001b[43m_get_strcols\u001b[49m\u001b[43m(\u001b[49m\u001b[43m)\u001b[49m\n\u001b[1;32m     46\u001b[0m \u001b[38;5;28;01mif\u001b[39;00m \u001b[38;5;28mself\u001b[39m\u001b[38;5;241m.\u001b[39mline_width \u001b[38;5;129;01mis\u001b[39;00m \u001b[38;5;28;01mNone\u001b[39;00m:\n\u001b[1;32m     47\u001b[0m     \u001b[38;5;66;03m# no need to wrap around just print the whole frame\u001b[39;00m\n\u001b[1;32m     48\u001b[0m     \u001b[38;5;28;01mreturn\u001b[39;00m \u001b[38;5;28mself\u001b[39m\u001b[38;5;241m.\u001b[39madj\u001b[38;5;241m.\u001b[39madjoin(\u001b[38;5;241m1\u001b[39m, \u001b[38;5;241m*\u001b[39mstrcols)\n",
      "File \u001b[0;32m~/.local/lib/python3.10/site-packages/pandas/io/formats/string.py:35\u001b[0m, in \u001b[0;36mStringFormatter._get_strcols\u001b[0;34m(self)\u001b[0m\n\u001b[1;32m     34\u001b[0m \u001b[38;5;28;01mdef\u001b[39;00m \u001b[38;5;21m_get_strcols\u001b[39m(\u001b[38;5;28mself\u001b[39m) \u001b[38;5;241m-\u001b[39m\u001b[38;5;241m>\u001b[39m \u001b[38;5;28mlist\u001b[39m[\u001b[38;5;28mlist\u001b[39m[\u001b[38;5;28mstr\u001b[39m]]:\n\u001b[0;32m---> 35\u001b[0m     strcols \u001b[38;5;241m=\u001b[39m \u001b[38;5;28;43mself\u001b[39;49m\u001b[38;5;241;43m.\u001b[39;49m\u001b[43mfmt\u001b[49m\u001b[38;5;241;43m.\u001b[39;49m\u001b[43mget_strcols\u001b[49m\u001b[43m(\u001b[49m\u001b[43m)\u001b[49m\n\u001b[1;32m     36\u001b[0m     \u001b[38;5;28;01mif\u001b[39;00m \u001b[38;5;28mself\u001b[39m\u001b[38;5;241m.\u001b[39mfmt\u001b[38;5;241m.\u001b[39mis_truncated:\n\u001b[1;32m     37\u001b[0m         strcols \u001b[38;5;241m=\u001b[39m \u001b[38;5;28mself\u001b[39m\u001b[38;5;241m.\u001b[39m_insert_dot_separators(strcols)\n",
      "File \u001b[0;32m~/.local/lib/python3.10/site-packages/pandas/io/formats/format.py:476\u001b[0m, in \u001b[0;36mDataFrameFormatter.get_strcols\u001b[0;34m(self)\u001b[0m\n\u001b[1;32m    472\u001b[0m \u001b[38;5;28;01mdef\u001b[39;00m \u001b[38;5;21mget_strcols\u001b[39m(\u001b[38;5;28mself\u001b[39m) \u001b[38;5;241m-\u001b[39m\u001b[38;5;241m>\u001b[39m \u001b[38;5;28mlist\u001b[39m[\u001b[38;5;28mlist\u001b[39m[\u001b[38;5;28mstr\u001b[39m]]:\n\u001b[1;32m    473\u001b[0m \u001b[38;5;250m    \u001b[39m\u001b[38;5;124;03m\"\"\"\u001b[39;00m\n\u001b[1;32m    474\u001b[0m \u001b[38;5;124;03m    Render a DataFrame to a list of columns (as lists of strings).\u001b[39;00m\n\u001b[1;32m    475\u001b[0m \u001b[38;5;124;03m    \"\"\"\u001b[39;00m\n\u001b[0;32m--> 476\u001b[0m     strcols \u001b[38;5;241m=\u001b[39m \u001b[38;5;28;43mself\u001b[39;49m\u001b[38;5;241;43m.\u001b[39;49m\u001b[43m_get_strcols_without_index\u001b[49m\u001b[43m(\u001b[49m\u001b[43m)\u001b[49m\n\u001b[1;32m    478\u001b[0m     \u001b[38;5;28;01mif\u001b[39;00m \u001b[38;5;28mself\u001b[39m\u001b[38;5;241m.\u001b[39mindex:\n\u001b[1;32m    479\u001b[0m         str_index \u001b[38;5;241m=\u001b[39m \u001b[38;5;28mself\u001b[39m\u001b[38;5;241m.\u001b[39m_get_formatted_index(\u001b[38;5;28mself\u001b[39m\u001b[38;5;241m.\u001b[39mtr_frame)\n",
      "File \u001b[0;32m~/.local/lib/python3.10/site-packages/pandas/io/formats/format.py:729\u001b[0m, in \u001b[0;36mDataFrameFormatter._get_strcols_without_index\u001b[0;34m(self)\u001b[0m\n\u001b[1;32m    727\u001b[0m     str_columns \u001b[38;5;241m=\u001b[39m [[label] \u001b[38;5;28;01mfor\u001b[39;00m label \u001b[38;5;129;01min\u001b[39;00m \u001b[38;5;28mself\u001b[39m\u001b[38;5;241m.\u001b[39mheader]\n\u001b[1;32m    728\u001b[0m \u001b[38;5;28;01melse\u001b[39;00m:\n\u001b[0;32m--> 729\u001b[0m     str_columns \u001b[38;5;241m=\u001b[39m \u001b[38;5;28;43mself\u001b[39;49m\u001b[38;5;241;43m.\u001b[39;49m\u001b[43m_get_formatted_column_labels\u001b[49m\u001b[43m(\u001b[49m\u001b[38;5;28;43mself\u001b[39;49m\u001b[38;5;241;43m.\u001b[39;49m\u001b[43mtr_frame\u001b[49m\u001b[43m)\u001b[49m\n\u001b[1;32m    731\u001b[0m \u001b[38;5;28;01mif\u001b[39;00m \u001b[38;5;28mself\u001b[39m\u001b[38;5;241m.\u001b[39mshow_row_idx_names:\n\u001b[1;32m    732\u001b[0m     \u001b[38;5;28;01mfor\u001b[39;00m x \u001b[38;5;129;01min\u001b[39;00m str_columns:\n",
      "File \u001b[0;32m~/.local/lib/python3.10/site-packages/pandas/io/formats/format.py:809\u001b[0m, in \u001b[0;36mDataFrameFormatter._get_formatted_column_labels\u001b[0;34m(self, frame)\u001b[0m\n\u001b[1;32m    807\u001b[0m     fmt_columns \u001b[38;5;241m=\u001b[39m columns\u001b[38;5;241m.\u001b[39m_format_flat(include_name\u001b[38;5;241m=\u001b[39m\u001b[38;5;28;01mFalse\u001b[39;00m)\n\u001b[1;32m    808\u001b[0m     dtypes \u001b[38;5;241m=\u001b[39m \u001b[38;5;28mself\u001b[39m\u001b[38;5;241m.\u001b[39mframe\u001b[38;5;241m.\u001b[39mdtypes\n\u001b[0;32m--> 809\u001b[0m     need_leadsp \u001b[38;5;241m=\u001b[39m \u001b[38;5;28;43mdict\u001b[39;49m\u001b[43m(\u001b[49m\u001b[38;5;28;43mzip\u001b[39;49m\u001b[43m(\u001b[49m\u001b[43mfmt_columns\u001b[49m\u001b[43m,\u001b[49m\u001b[43m \u001b[49m\u001b[38;5;28;43mmap\u001b[39;49m\u001b[43m(\u001b[49m\u001b[43mis_numeric_dtype\u001b[49m\u001b[43m,\u001b[49m\u001b[43m \u001b[49m\u001b[43mdtypes\u001b[49m\u001b[43m)\u001b[49m\u001b[43m)\u001b[49m\u001b[43m)\u001b[49m\n\u001b[1;32m    810\u001b[0m     str_columns \u001b[38;5;241m=\u001b[39m [\n\u001b[1;32m    811\u001b[0m         [\u001b[38;5;124m\"\u001b[39m\u001b[38;5;124m \u001b[39m\u001b[38;5;124m\"\u001b[39m \u001b[38;5;241m+\u001b[39m x \u001b[38;5;28;01mif\u001b[39;00m \u001b[38;5;129;01mnot\u001b[39;00m \u001b[38;5;28mself\u001b[39m\u001b[38;5;241m.\u001b[39m_get_formatter(i) \u001b[38;5;129;01mand\u001b[39;00m need_leadsp[x] \u001b[38;5;28;01melse\u001b[39;00m x]\n\u001b[1;32m    812\u001b[0m         \u001b[38;5;28;01mfor\u001b[39;00m i, x \u001b[38;5;129;01min\u001b[39;00m \u001b[38;5;28menumerate\u001b[39m(fmt_columns)\n\u001b[1;32m    813\u001b[0m     ]\n\u001b[1;32m    814\u001b[0m \u001b[38;5;66;03m# self.str_columns = str_columns\u001b[39;00m\n",
      "File \u001b[0;32m~/.local/lib/python3.10/site-packages/pandas/core/dtypes/common.py:1119\u001b[0m, in \u001b[0;36mis_numeric_dtype\u001b[0;34m(arr_or_dtype)\u001b[0m\n\u001b[1;32m   1081\u001b[0m \u001b[38;5;28;01mdef\u001b[39;00m \u001b[38;5;21mis_numeric_dtype\u001b[39m(arr_or_dtype) \u001b[38;5;241m-\u001b[39m\u001b[38;5;241m>\u001b[39m \u001b[38;5;28mbool\u001b[39m:\n\u001b[1;32m   1082\u001b[0m \u001b[38;5;250m    \u001b[39m\u001b[38;5;124;03m\"\"\"\u001b[39;00m\n\u001b[1;32m   1083\u001b[0m \u001b[38;5;124;03m    Check whether the provided array or dtype is of a numeric dtype.\u001b[39;00m\n\u001b[1;32m   1084\u001b[0m \n\u001b[0;32m   (...)\u001b[0m\n\u001b[1;32m   1117\u001b[0m \u001b[38;5;124;03m    False\u001b[39;00m\n\u001b[1;32m   1118\u001b[0m \u001b[38;5;124;03m    \"\"\"\u001b[39;00m\n\u001b[0;32m-> 1119\u001b[0m     \u001b[38;5;28;01mreturn\u001b[39;00m \u001b[43m_is_dtype_type\u001b[49m\u001b[43m(\u001b[49m\n\u001b[1;32m   1120\u001b[0m \u001b[43m        \u001b[49m\u001b[43marr_or_dtype\u001b[49m\u001b[43m,\u001b[49m\u001b[43m \u001b[49m\u001b[43m_classes_and_not_datetimelike\u001b[49m\u001b[43m(\u001b[49m\u001b[43mnp\u001b[49m\u001b[38;5;241;43m.\u001b[39;49m\u001b[43mnumber\u001b[49m\u001b[43m,\u001b[49m\u001b[43m \u001b[49m\u001b[43mnp\u001b[49m\u001b[38;5;241;43m.\u001b[39;49m\u001b[43mbool_\u001b[49m\u001b[43m)\u001b[49m\n\u001b[1;32m   1121\u001b[0m \u001b[43m    \u001b[49m\u001b[43m)\u001b[49m \u001b[38;5;129;01mor\u001b[39;00m _is_dtype(\n\u001b[1;32m   1122\u001b[0m         arr_or_dtype, \u001b[38;5;28;01mlambda\u001b[39;00m typ: \u001b[38;5;28misinstance\u001b[39m(typ, ExtensionDtype) \u001b[38;5;129;01mand\u001b[39;00m typ\u001b[38;5;241m.\u001b[39m_is_numeric\n\u001b[1;32m   1123\u001b[0m     )\n",
      "File \u001b[0;32m~/.local/lib/python3.10/site-packages/pandas/core/dtypes/common.py:1453\u001b[0m, in \u001b[0;36m_is_dtype_type\u001b[0;34m(arr_or_dtype, condition)\u001b[0m\n\u001b[1;32m   1451\u001b[0m \u001b[38;5;66;03m# fastpath\u001b[39;00m\n\u001b[1;32m   1452\u001b[0m \u001b[38;5;28;01mif\u001b[39;00m \u001b[38;5;28misinstance\u001b[39m(arr_or_dtype, np\u001b[38;5;241m.\u001b[39mdtype):\n\u001b[0;32m-> 1453\u001b[0m     \u001b[38;5;28;01mreturn\u001b[39;00m \u001b[43mcondition\u001b[49m\u001b[43m(\u001b[49m\u001b[43marr_or_dtype\u001b[49m\u001b[38;5;241;43m.\u001b[39;49m\u001b[43mtype\u001b[49m\u001b[43m)\u001b[49m\n\u001b[1;32m   1454\u001b[0m \u001b[38;5;28;01melif\u001b[39;00m \u001b[38;5;28misinstance\u001b[39m(arr_or_dtype, \u001b[38;5;28mtype\u001b[39m):\n\u001b[1;32m   1455\u001b[0m     \u001b[38;5;28;01mif\u001b[39;00m \u001b[38;5;28missubclass\u001b[39m(arr_or_dtype, ExtensionDtype):\n",
      "File \u001b[0;32m~/.local/lib/python3.10/site-packages/pandas/core/dtypes/common.py:131\u001b[0m, in \u001b[0;36m_classes_and_not_datetimelike.<locals>.<lambda>\u001b[0;34m(tipo)\u001b[0m\n\u001b[1;32m    126\u001b[0m \u001b[38;5;28;01mdef\u001b[39;00m \u001b[38;5;21m_classes_and_not_datetimelike\u001b[39m(\u001b[38;5;241m*\u001b[39mklasses) \u001b[38;5;241m-\u001b[39m\u001b[38;5;241m>\u001b[39m Callable:\n\u001b[1;32m    127\u001b[0m \u001b[38;5;250m    \u001b[39m\u001b[38;5;124;03m\"\"\"\u001b[39;00m\n\u001b[1;32m    128\u001b[0m \u001b[38;5;124;03m    Evaluate if the tipo is a subclass of the klasses\u001b[39;00m\n\u001b[1;32m    129\u001b[0m \u001b[38;5;124;03m    and not a datetimelike.\u001b[39;00m\n\u001b[1;32m    130\u001b[0m \u001b[38;5;124;03m    \"\"\"\u001b[39;00m\n\u001b[0;32m--> 131\u001b[0m     \u001b[38;5;28;01mreturn\u001b[39;00m \u001b[38;5;28;01mlambda\u001b[39;00m tipo: (\n\u001b[1;32m    132\u001b[0m         \u001b[38;5;28missubclass\u001b[39m(tipo, klasses)\n\u001b[1;32m    133\u001b[0m         \u001b[38;5;129;01mand\u001b[39;00m \u001b[38;5;129;01mnot\u001b[39;00m \u001b[38;5;28missubclass\u001b[39m(tipo, (np\u001b[38;5;241m.\u001b[39mdatetime64, np\u001b[38;5;241m.\u001b[39mtimedelta64))\n\u001b[1;32m    134\u001b[0m     )\n",
      "\u001b[0;31mKeyboardInterrupt\u001b[0m: "
     ]
    }
   ],
   "source": [
    "maxt.head()"
   ]
  },
  {
   "cell_type": "code",
   "execution_count": 20,
   "id": "bea0d7b5",
   "metadata": {},
   "outputs": [
    {
     "ename": "NameError",
     "evalue": "name 'mint' is not defined",
     "output_type": "error",
     "traceback": [
      "\u001b[0;31m---------------------------------------------------------------------------\u001b[0m",
      "\u001b[0;31mNameError\u001b[0m                                 Traceback (most recent call last)",
      "Cell \u001b[0;32mIn[20], line 1\u001b[0m\n\u001b[0;32m----> 1\u001b[0m ts_hours \u001b[38;5;241m=\u001b[39m pd\u001b[38;5;241m.\u001b[39mmerge(\u001b[43mmint\u001b[49m, maxt, on\u001b[38;5;241m=\u001b[39m\u001b[38;5;124m\"\u001b[39m\u001b[38;5;124msrc_ip\u001b[39m\u001b[38;5;124m\"\u001b[39m,suffixes\u001b[38;5;241m=\u001b[39m(\u001b[38;5;124m\"\u001b[39m\u001b[38;5;124m_mint\u001b[39m\u001b[38;5;124m\"\u001b[39m,\u001b[38;5;124m\"\u001b[39m\u001b[38;5;124m_maxt\u001b[39m\u001b[38;5;124m\"\u001b[39m))\n",
      "\u001b[0;31mNameError\u001b[0m: name 'mint' is not defined"
     ]
    }
   ],
   "source": [
    "ts_hours = pd.merge(mint, maxt, on=\"src_ip\",suffixes=(\"_mint\",\"_maxt\"))"
   ]
  },
  {
   "cell_type": "code",
   "execution_count": 21,
   "id": "4c5eba06",
   "metadata": {},
   "outputs": [
    {
     "ename": "NameError",
     "evalue": "name 'ts_hours' is not defined",
     "output_type": "error",
     "traceback": [
      "\u001b[0;31m---------------------------------------------------------------------------\u001b[0m",
      "\u001b[0;31mNameError\u001b[0m                                 Traceback (most recent call last)",
      "Cell \u001b[0;32mIn[21], line 1\u001b[0m\n\u001b[0;32m----> 1\u001b[0m \u001b[43mts_hours\u001b[49m\u001b[38;5;241m.\u001b[39mhead()\n",
      "\u001b[0;31mNameError\u001b[0m: name 'ts_hours' is not defined"
     ]
    }
   ],
   "source": [
    "ts_hours.head()"
   ]
  },
  {
   "cell_type": "code",
   "execution_count": null,
   "id": "ed7c0756",
   "metadata": {},
   "outputs": [],
   "source": [
    "from collections import Counter\n",
    "def count_letters(letter_list):\n",
    "    return dict(Counter(letter_list))\n",
    "def get_top_3_counts(letter_count,n=3):\n",
    "    # Sort the counts in descending order and get the top 3\n",
    "    return dict(Counter(letter_count).most_common(n))\n",
    "\n",
    "ts_hours.groupby(\"timestamp_mint\")[\"timestamp_maxt\"].apply(list).apply(count_letters).apply(get_top_3_counts).reset_index()"
   ]
  },
  {
   "cell_type": "markdown",
   "id": "2921b128",
   "metadata": {},
   "source": [
    "### Horas de trabalho mais comuns\n",
    "| Hora de inicio | hora de fim ({Hora: Contagem}) |\n",
    "|:----:|:------:|\n",
    "| 03 |    {'17': 1} |\n",
    "| 04 |    {'14': 2} |\n",
    "| 05 |    {'17': 3} |\n",
    "| 06 |    {'17': 4} |\n",
    "| 07 |    {'17': 6} |\n",
    "| 08 |    {'14': 5} |\n",
    "| 09 |    {'17': 8} |\n",
    "| 10 |    {'17': 7} |\n",
    "| 11 |    {'16': 4} |\n",
    "| 12 |    {'17': 3} |\n",
    "| 13 |    {'17': 1} |\n",
    "\n",
    "Hora mais comum e das 9 as 17.\n",
    "\n",
    "Mas o intervalo mais abrangente e das 7 as 17."
   ]
  },
  {
   "cell_type": "code",
   "execution_count": 22,
   "id": "4ff93065-a395-49b3-aa1c-027a0e7b95a2",
   "metadata": {},
   "outputs": [
    {
     "name": "stdout",
     "output_type": "stream",
     "text": [
      "\n",
      "\n"
     ]
    }
   ],
   "source": [
    "\n",
    "https_servers = set(grp_private_normal[('tcp', 443)])\n",
    "print()\n",
    "\n",
    "dns_servers =  set(grp_private_normal[('udp', 53)])\n",
    "print()"
   ]
  },
  {
   "cell_type": "markdown",
   "id": "a0268c8a-3aea-44b2-b5bd-2644d55239ac",
   "metadata": {},
   "source": [
    "## Servers \n",
    "tcp 443 {'192.168.107.223', '192.168.107.238', '192.168.107.222', '192.168.107.226'} https\n",
    "\n",
    "udp 53 {'192.168.107.227', '192.168.107.234'} dns\n"
   ]
  },
  {
   "cell_type": "code",
   "execution_count": 23,
   "id": "3a4fa524-3d64-47c0-b23c-50937f82b38a",
   "metadata": {},
   "outputs": [
    {
     "data": {
      "text/html": [
       "<div>\n",
       "<style scoped>\n",
       "    .dataframe tbody tr th:only-of-type {\n",
       "        vertical-align: middle;\n",
       "    }\n",
       "\n",
       "    .dataframe tbody tr th {\n",
       "        vertical-align: top;\n",
       "    }\n",
       "\n",
       "    .dataframe thead th {\n",
       "        text-align: right;\n",
       "    }\n",
       "</style>\n",
       "<table border=\"1\" class=\"dataframe\">\n",
       "  <thead>\n",
       "    <tr style=\"text-align: left;\">\n",
       "      <th></th>\n",
       "      <th></th>\n",
       "      <th>timestamp</th>\n",
       "      <th>proto</th>\n",
       "      <th>port</th>\n",
       "      <th>up_bytes</th>\n",
       "      <th>down_bytes</th>\n",
       "      <th>ratio</th>\n",
       "    </tr>\n",
       "    <tr>\n",
       "      <th>src_ip</th>\n",
       "      <th>dst_ip</th>\n",
       "      <th></th>\n",
       "      <th></th>\n",
       "      <th></th>\n",
       "      <th></th>\n",
       "      <th></th>\n",
       "      <th></th>\n",
       "    </tr>\n",
       "  </thead>\n",
       "  <tbody>\n",
       "    <tr>\n",
       "      <th rowspan=\"5\" valign=\"top\">192.168.107.100</th>\n",
       "      <th>104.16.249.130</th>\n",
       "      <td>94725010</td>\n",
       "      <td>tcptcptcptcptcptcptcptcptcptcptcptcptcptcptcpt...</td>\n",
       "      <td>7974</td>\n",
       "      <td>209457</td>\n",
       "      <td>1727986</td>\n",
       "      <td>0.121215</td>\n",
       "    </tr>\n",
       "    <tr>\n",
       "      <th>104.22.48.100</th>\n",
       "      <td>36323031</td>\n",
       "      <td>tcptcptcptcptcptcptcptcptcp</td>\n",
       "      <td>3987</td>\n",
       "      <td>93381</td>\n",
       "      <td>814578</td>\n",
       "      <td>0.114637</td>\n",
       "    </tr>\n",
       "    <tr>\n",
       "      <th>104.244.42.129</th>\n",
       "      <td>246717524</td>\n",
       "      <td>tcptcptcptcptcptcptcptcptcptcptcptcptcptcptcpt...</td>\n",
       "      <td>21707</td>\n",
       "      <td>512007</td>\n",
       "      <td>4246664</td>\n",
       "      <td>0.120567</td>\n",
       "    </tr>\n",
       "    <tr>\n",
       "      <th>104.26.13.207</th>\n",
       "      <td>100077577</td>\n",
       "      <td>tcptcptcptcptcptcptcptcptcptcptcptcptcptcptcpt...</td>\n",
       "      <td>8860</td>\n",
       "      <td>270821</td>\n",
       "      <td>6675043</td>\n",
       "      <td>0.040572</td>\n",
       "    </tr>\n",
       "    <tr>\n",
       "      <th>104.26.14.51</th>\n",
       "      <td>79996025</td>\n",
       "      <td>tcptcptcptcptcptcptcptcptcptcptcptcptcptcptcptcp</td>\n",
       "      <td>7088</td>\n",
       "      <td>205239</td>\n",
       "      <td>1890983</td>\n",
       "      <td>0.108536</td>\n",
       "    </tr>\n",
       "    <tr>\n",
       "      <th>...</th>\n",
       "      <th>...</th>\n",
       "      <td>...</td>\n",
       "      <td>...</td>\n",
       "      <td>...</td>\n",
       "      <td>...</td>\n",
       "      <td>...</td>\n",
       "      <td>...</td>\n",
       "    </tr>\n",
       "    <tr>\n",
       "      <th rowspan=\"5\" valign=\"top\">192.168.107.99</th>\n",
       "      <th>66.22.229.4</th>\n",
       "      <td>11237553</td>\n",
       "      <td>tcptcptcp</td>\n",
       "      <td>1329</td>\n",
       "      <td>23809</td>\n",
       "      <td>267000</td>\n",
       "      <td>0.089172</td>\n",
       "    </tr>\n",
       "    <tr>\n",
       "      <th>66.254.114.41</th>\n",
       "      <td>10868618</td>\n",
       "      <td>tcptcptcp</td>\n",
       "      <td>1329</td>\n",
       "      <td>37602</td>\n",
       "      <td>337169</td>\n",
       "      <td>0.111523</td>\n",
       "    </tr>\n",
       "    <tr>\n",
       "      <th>88.157.217.145</th>\n",
       "      <td>66107954</td>\n",
       "      <td>tcptcptcptcptcptcptcptcptcptcptcptcptcptcptcpt...</td>\n",
       "      <td>7974</td>\n",
       "      <td>159654</td>\n",
       "      <td>1506733</td>\n",
       "      <td>0.105960</td>\n",
       "    </tr>\n",
       "    <tr>\n",
       "      <th>88.157.217.146</th>\n",
       "      <td>120743878</td>\n",
       "      <td>tcptcptcptcptcptcptcptcptcptcptcptcptcptcptcpt...</td>\n",
       "      <td>14619</td>\n",
       "      <td>379690</td>\n",
       "      <td>4234007</td>\n",
       "      <td>0.089676</td>\n",
       "    </tr>\n",
       "    <tr>\n",
       "      <th>97.107.142.234</th>\n",
       "      <td>30141613</td>\n",
       "      <td>tcptcptcptcptcptcptcptcp</td>\n",
       "      <td>3544</td>\n",
       "      <td>71568</td>\n",
       "      <td>677703</td>\n",
       "      <td>0.105604</td>\n",
       "    </tr>\n",
       "  </tbody>\n",
       "</table>\n",
       "<p>27120 rows × 6 columns</p>\n",
       "</div>"
      ],
      "text/plain": [
       "                                timestamp proto                                               port   up_bytes  down_bytes  ratio   \n",
       "src_ip          dst_ip                                                                                                             \n",
       "192.168.107.100 104.16.249.130   94725010  tcptcptcptcptcptcptcptcptcptcptcptcptcptcptcpt...   7974  209457    1727986     0.121215\n",
       "                104.22.48.100    36323031                        tcptcptcptcptcptcptcptcptcp   3987   93381     814578     0.114637\n",
       "                104.244.42.129  246717524  tcptcptcptcptcptcptcptcptcptcptcptcptcptcptcpt...  21707  512007    4246664     0.120567\n",
       "                104.26.13.207   100077577  tcptcptcptcptcptcptcptcptcptcptcptcptcptcptcpt...   8860  270821    6675043     0.040572\n",
       "                104.26.14.51     79996025   tcptcptcptcptcptcptcptcptcptcptcptcptcptcptcptcp   7088  205239    1890983     0.108536\n",
       "...                                   ...                                                ...    ...       ...         ...       ...\n",
       "192.168.107.99  66.22.229.4      11237553                                          tcptcptcp   1329   23809     267000     0.089172\n",
       "                66.254.114.41    10868618                                          tcptcptcp   1329   37602     337169     0.111523\n",
       "                88.157.217.145   66107954  tcptcptcptcptcptcptcptcptcptcptcptcptcptcptcpt...   7974  159654    1506733     0.105960\n",
       "                88.157.217.146  120743878  tcptcptcptcptcptcptcptcptcptcptcptcptcptcptcpt...  14619  379690    4234007     0.089676\n",
       "                97.107.142.234   30141613                           tcptcptcptcptcptcptcptcp   3544   71568     677703     0.105604\n",
       "\n",
       "[27120 rows x 6 columns]"
      ]
     },
     "execution_count": 23,
     "metadata": {},
     "output_type": "execute_result"
    }
   ],
   "source": [
    "grouped = data.groupby(['src_ip','dst_ip']).sum()\n",
    "\n",
    "# Calculate the ratio\n",
    "grouped['ratio'] = grouped['up_bytes'] / grouped['down_bytes']\n",
    "grouped\n",
    "# Reset the index to make dst_ip a column again\n",
    "# grouped = grouped.reset_index()"
   ]
  },
  {
   "cell_type": "code",
   "execution_count": 24,
   "id": "040ffb89",
   "metadata": {},
   "outputs": [],
   "source": [
    "mean_ratios = grouped.groupby('src_ip')['ratio'].mean().reset_index()"
   ]
  },
  {
   "cell_type": "code",
   "execution_count": 25,
   "id": "fc99f6d4",
   "metadata": {},
   "outputs": [],
   "source": [
    "server_traffic = data[data.apply(lambda x: x['dst_ip'] in dns_servers or x['dst_ip'] in https_servers,axis=1)]\n",
    "\n"
   ]
  },
  {
   "cell_type": "code",
   "execution_count": 26,
   "id": "8098682b",
   "metadata": {},
   "outputs": [
    {
     "data": {
      "text/html": [
       "<div>\n",
       "<style scoped>\n",
       "    .dataframe tbody tr th:only-of-type {\n",
       "        vertical-align: middle;\n",
       "    }\n",
       "\n",
       "    .dataframe tbody tr th {\n",
       "        vertical-align: top;\n",
       "    }\n",
       "\n",
       "    .dataframe thead th {\n",
       "        text-align: right;\n",
       "    }\n",
       "</style>\n",
       "<table border=\"1\" class=\"dataframe\">\n",
       "  <thead>\n",
       "    <tr style=\"text-align: left;\">\n",
       "      <th></th>\n",
       "      <th>timestamp</th>\n",
       "      <th>src_ip</th>\n",
       "      <th>dst_ip</th>\n",
       "      <th>proto</th>\n",
       "      <th>port</th>\n",
       "      <th>up_bytes</th>\n",
       "      <th>down_bytes</th>\n",
       "    </tr>\n",
       "    <tr>\n",
       "      <th>index</th>\n",
       "      <th></th>\n",
       "      <th></th>\n",
       "      <th></th>\n",
       "      <th></th>\n",
       "      <th></th>\n",
       "      <th></th>\n",
       "      <th></th>\n",
       "    </tr>\n",
       "  </thead>\n",
       "  <tbody>\n",
       "    <tr>\n",
       "      <th>709945</th>\n",
       "      <td>1232147</td>\n",
       "      <td>192.168.107.196</td>\n",
       "      <td>192.168.107.234</td>\n",
       "      <td>udp</td>\n",
       "      <td>53</td>\n",
       "      <td>157</td>\n",
       "      <td>224</td>\n",
       "    </tr>\n",
       "    <tr>\n",
       "      <th>709946</th>\n",
       "      <td>1232151</td>\n",
       "      <td>192.168.107.196</td>\n",
       "      <td>192.168.107.234</td>\n",
       "      <td>udp</td>\n",
       "      <td>53</td>\n",
       "      <td>157</td>\n",
       "      <td>227</td>\n",
       "    </tr>\n",
       "    <tr>\n",
       "      <th>709947</th>\n",
       "      <td>1232156</td>\n",
       "      <td>192.168.107.196</td>\n",
       "      <td>192.168.107.234</td>\n",
       "      <td>udp</td>\n",
       "      <td>53</td>\n",
       "      <td>154</td>\n",
       "      <td>219</td>\n",
       "    </tr>\n",
       "    <tr>\n",
       "      <th>709954</th>\n",
       "      <td>1232769</td>\n",
       "      <td>192.168.107.196</td>\n",
       "      <td>192.168.107.226</td>\n",
       "      <td>tcp</td>\n",
       "      <td>443</td>\n",
       "      <td>13661</td>\n",
       "      <td>134605</td>\n",
       "    </tr>\n",
       "    <tr>\n",
       "      <th>709967</th>\n",
       "      <td>1234167</td>\n",
       "      <td>192.168.107.196</td>\n",
       "      <td>192.168.107.226</td>\n",
       "      <td>tcp</td>\n",
       "      <td>443</td>\n",
       "      <td>5129</td>\n",
       "      <td>39416</td>\n",
       "    </tr>\n",
       "  </tbody>\n",
       "</table>\n",
       "</div>"
      ],
      "text/plain": [
       "        timestamp src_ip           dst_ip           proto  port  up_bytes  down_bytes\n",
       "index                                                                                \n",
       "709945  1232147    192.168.107.196  192.168.107.234  udp    53     157        224    \n",
       "709946  1232151    192.168.107.196  192.168.107.234  udp    53     157        227    \n",
       "709947  1232156    192.168.107.196  192.168.107.234  udp    53     154        219    \n",
       "709954  1232769    192.168.107.196  192.168.107.226  tcp   443   13661     134605    \n",
       "709967  1234167    192.168.107.196  192.168.107.226  tcp   443    5129      39416    "
      ]
     },
     "execution_count": 26,
     "metadata": {},
     "output_type": "execute_result"
    }
   ],
   "source": [
    "server_traffic.head()"
   ]
  },
  {
   "cell_type": "code",
   "execution_count": 27,
   "id": "619d6f8f",
   "metadata": {},
   "outputs": [
    {
     "ename": "NameError",
     "evalue": "name 'server_traffic_http' is not defined",
     "output_type": "error",
     "traceback": [
      "\u001b[0;31m---------------------------------------------------------------------------\u001b[0m",
      "\u001b[0;31mNameError\u001b[0m                                 Traceback (most recent call last)",
      "Cell \u001b[0;32mIn[27], line 1\u001b[0m\n\u001b[0;32m----> 1\u001b[0m \u001b[43mserver_traffic_http\u001b[49m\u001b[38;5;241m.\u001b[39msize \u001b[38;5;241m/\u001b[39m server_traffic\u001b[38;5;241m.\u001b[39msize\n",
      "\u001b[0;31mNameError\u001b[0m: name 'server_traffic_http' is not defined"
     ]
    }
   ],
   "source": [
    "server_traffic_http.size / server_traffic.size"
   ]
  },
  {
   "cell_type": "markdown",
   "id": "9dc5ba17",
   "metadata": {},
   "source": [
    "#### src_ip connections to servers both dns or tcp"
   ]
  },
  {
   "cell_type": "code",
   "execution_count": null,
   "id": "4400524a",
   "metadata": {},
   "outputs": [],
   "source": [
    "server_traffic_dns = data[data.apply(lambda x: x['dst_ip'] in dns_servers,axis=1)]\n",
    "\n",
    "server_traffic_http =  data[data.apply(lambda x: x['dst_ip'] in https_servers,axis=1)]"
   ]
  },
  {
   "cell_type": "code",
   "execution_count": null,
   "id": "437b6c4e",
   "metadata": {},
   "outputs": [],
   "source": [
    "server_traffic_dns.groupby(\"src_ip\").sum().reset_index().drop([\"dst_ip\",\"proto\",\"port\",\"timestamp\"],axis=1).groupby(\"src_ip\").mean()"
   ]
  },
  {
   "cell_type": "code",
   "execution_count": null,
   "id": "1c70b505",
   "metadata": {},
   "outputs": [],
   "source": [
    "server_traffic_http.groupby(\"src_ip\").sum().reset_index().drop([\"dst_ip\",\"proto\",\"port\",\"timestamp\"],axis=1).groupby(\"src_ip\").mean()"
   ]
  },
  {
   "cell_type": "code",
   "execution_count": null,
   "id": "351a4dab",
   "metadata": {},
   "outputs": [],
   "source": [
    "servers_grouped = server_traffic.groupby(['dst_ip','src_ip']).sum()\n",
    "\n",
    "# Calculate the ratio\n",
    "servers_grouped['ratio'] = servers_grouped['up_bytes'] / servers_grouped['down_bytes']\n",
    "servers_grouped\n",
    "# Reset the index to make dst_ip a column again\n",
    "# grouped = grouped.reset_index()\n",
    "servers_mean_ratios = servers_grouped.groupby('dst_ip')['ratio'].mean().reset_index()"
   ]
  },
  {
   "cell_type": "code",
   "execution_count": null,
   "id": "058a170f",
   "metadata": {},
   "outputs": [],
   "source": [
    "servers_mean_ratios.sort_values(by=\"ratio\",ascending=False)"
   ]
  },
  {
   "cell_type": "code",
   "execution_count": null,
   "id": "64fb6368",
   "metadata": {},
   "outputs": [],
   "source": [
    "servers_mean_ratios.to_csv(\"dst_ip_normal.csv\")"
   ]
  },
  {
   "cell_type": "code",
   "execution_count": null,
   "id": "655e0da0",
   "metadata": {},
   "outputs": [],
   "source": [
    "NET=ipaddress.IPv4Network('192.168.107.0/24')\n",
    "private_dst_internal_normal = data[data.apply(lambda x: ipaddress.IPv4Address(x['dst_ip']) in NET  and  ipaddress.IPv4Address(x['src_ip']) in NET  ,axis=1)]\n",
    "\n",
    "private_dst_internal_normal.head()"
   ]
  },
  {
   "cell_type": "code",
   "execution_count": null,
   "id": "bd95cefe",
   "metadata": {},
   "outputs": [],
   "source": [
    "private_dst_internal_normal.groupby(\"src_ip\")['dst_ip'].agg(set).reset_index().to_csv(\"normal_coms_internal.csv\")\n",
    "\n",
    "print(private_dst_internal_normal.groupby(\"src_ip\")['dst_ip'].agg(list).reset_index()[:]['src_ip'][0])\n",
    "print(set(private_dst_internal_normal.groupby(\"src_ip\")['dst_ip'].agg(list).reset_index()[:]['dst_ip'][0]))"
   ]
  },
  {
   "cell_type": "code",
   "execution_count": null,
   "id": "e88b4e07",
   "metadata": {},
   "outputs": [],
   "source": [
    "exterior = data[data.apply(lambda x: ipaddress.IPv4Address(x['dst_ip']) not in NET,axis=1)]\n",
    "exterior.loc[:,'ratio'] = exterior['up_bytes']/exterior['down_bytes']"
   ]
  },
  {
   "cell_type": "code",
   "execution_count": null,
   "id": "f65c976a",
   "metadata": {},
   "outputs": [],
   "source": [
    "grp_exterior_normal = exterior.groupby([\"proto\",\"port\"])['dst_ip'].apply(list)\n",
    "\n",
    "https_servers = set(grp_exterior_normal[('tcp', 443)])\n",
    "print(https_servers)\n",
    "\n",
    "ips_cc = {addr : gi.country_code_by_addr(addr) for addr in https_servers}\n",
    "ips_cc_filtered = {k:v for k,v in ips_cc.items() if k not in ['US','GB','UK']}\n",
    "\n",
    "# dns_servers =  set(grp_exterior_normal[('udp', 53)])\n",
    "# print(dns_servers)"
   ]
  },
  {
   "cell_type": "code",
   "execution_count": null,
   "id": "973abbfa",
   "metadata": {},
   "outputs": [],
   "source": [
    "exterior.groupby(['src_ip','dst_ip'])[\"ratio\"].mean().reset_index().sort_values(ascending=False, by='ratio').to_csv(\"dst_ip_ratio_normal.csv\")"
   ]
  },
  {
   "cell_type": "code",
   "execution_count": null,
   "id": "4b5073bd",
   "metadata": {},
   "outputs": [],
   "source": [
    "print(\"Numero de paises contactados\", len(set(ips_cc.values())))"
   ]
  }
 ],
 "metadata": {
  "kernelspec": {
   "display_name": "Python 3 (ipykernel)",
   "language": "python",
   "name": "python3"
  },
  "language_info": {
   "codemirror_mode": {
    "name": "ipython",
    "version": 3
   },
   "file_extension": ".py",
   "mimetype": "text/x-python",
   "name": "python",
   "nbconvert_exporter": "python",
   "pygments_lexer": "ipython3",
   "version": "3.10.12"
  }
 },
 "nbformat": 4,
 "nbformat_minor": 5
}
