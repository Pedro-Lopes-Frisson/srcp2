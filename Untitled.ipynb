{
 "cells": [
  {
   "cell_type": "markdown",
   "id": "208aafa1-7d06-4be9-a183-637fc8174887",
   "metadata": {},
   "source": [
    "# Setup"
   ]
  },
  {
   "cell_type": "code",
   "execution_count": 1,
   "id": "ee6a1e7c-f8ce-4a11-83a4-653e1150842a",
   "metadata": {},
   "outputs": [],
   "source": [
    "import pandas as pd\n",
    "import numpy as np\n",
    "import ipaddress\n",
    "import dns.resolver\n",
    "import dns.reversename\n",
    "import pygeoip\n",
    "import matplotlib.pyplot as plt "
   ]
  },
  {
   "cell_type": "code",
   "execution_count": 2,
   "id": "ff0ca59f-8ec7-452a-a804-9930a2627797",
   "metadata": {},
   "outputs": [],
   "source": [
    "datafile='data7.parquet'\n",
    "testfile='servers7.parquet'\n",
    "serverfile='test7.parquet'"
   ]
  },
  {
   "cell_type": "code",
   "execution_count": 3,
   "id": "51ee0598-5457-44b9-94fe-bbb223d9d725",
   "metadata": {},
   "outputs": [
    {
     "name": "stdout",
     "output_type": "stream",
     "text": [
      "PT AS1930 Fundacao para a Ciencia e a Tecnologia, I.P.\n"
     ]
    }
   ],
   "source": [
    "gi=pygeoip.GeoIP('./GeoIP.dat')\n",
    "gi2=pygeoip.GeoIP('./GeoIPASNum.dat')\n",
    "addr='193.136.73.21'\n",
    "cc=gi.country_code_by_addr(addr)\n",
    "org=gi2.org_by_addr(addr)\n",
    "print(cc,org)"
   ]
  },
  {
   "cell_type": "code",
   "execution_count": 45,
   "id": "3962c551-bc72-4569-a7d0-d00bb39002ec",
   "metadata": {},
   "outputs": [
    {
     "name": "stderr",
     "output_type": "stream",
     "text": [
      "IOPub data rate exceeded.\n",
      "The Jupyter server will temporarily stop sending output\n",
      "to the client in order to avoid crashing it.\n",
      "To change this limit, set the config variable\n",
      "`--ServerApp.iopub_data_rate_limit`.\n",
      "\n",
      "Current values:\n",
      "ServerApp.iopub_data_rate_limit=1000000.0 (bytes/sec)\n",
      "ServerApp.rate_limit_window=3.0 (secs)\n",
      "\n"
     ]
    }
   ],
   "source": []
  },
  {
   "cell_type": "code",
   "execution_count": 4,
   "id": "191b75d5-cbad-43a4-823e-471081057425",
   "metadata": {},
   "outputs": [],
   "source": [
    "pd_data=pd.read_parquet(datafile)\n",
    "pd_test=pd.read_parquet(testfile)\n",
    "pd_servers=pd.read_parquet(serverfile)"
   ]
  },
  {
   "cell_type": "code",
   "execution_count": 37,
   "id": "290153ad-40a8-404d-afeb-268bac164bf6",
   "metadata": {},
   "outputs": [
    {
     "name": "stdout",
     "output_type": "stream",
     "text": [
      "src_ip\n",
      "192.168.107.97     84183.878947\n",
      "192.168.107.122    86110.587648\n",
      "192.168.107.114    87155.732499\n",
      "192.168.107.153    87650.621508\n",
      "192.168.107.63     87936.592153\n",
      "192.168.107.108    88289.433857\n",
      "192.168.107.81     88553.065327\n",
      "192.168.107.182    88618.861917\n",
      "192.168.107.96     88812.157534\n",
      "192.168.107.39     89069.844796\n",
      "192.168.107.191    89157.999398\n",
      "192.168.107.19     89266.504149\n",
      "192.168.107.117    89522.226210\n",
      "192.168.107.135    89715.308094\n",
      "192.168.107.17     89834.561351\n",
      "192.168.107.129    89978.102728\n",
      "192.168.107.169    89984.959746\n",
      "192.168.107.58     89987.024773\n",
      "192.168.107.66     90030.087785\n",
      "192.168.107.35     90083.588541\n",
      "192.168.107.207    90110.186914\n",
      "192.168.107.186    90162.072591\n",
      "192.168.107.180    90203.339662\n",
      "192.168.107.102    90240.021866\n",
      "192.168.107.160    90330.013119\n",
      "Name: down_bytes, dtype: float64\n"
     ]
    }
   ],
   "source": [
    "avgUp=pd_data.groupby(['src_ip'])['down_bytes'].mean()\n",
    "print(avgUp.sort_values()[:][:25])\n"
   ]
  },
  {
   "cell_type": "code",
   "execution_count": 25,
   "id": "6911c374-574c-41ea-a51c-e417ffdbb159",
   "metadata": {},
   "outputs": [],
   "source": [
    "upS=pd_data.loc[((pd_data['port']==443))].groupby(['src_ip'])['up_bytes'].sum().sort_values(ascending=False)"
   ]
  },
  {
   "cell_type": "code",
   "execution_count": 27,
   "id": "bb24d046-5bd6-42c7-8815-ff858fc22668",
   "metadata": {},
   "outputs": [
    {
     "data": {
      "image/png": "[encoded data removed]",
      "text/plain": [
       "<Figure size 640x480 with 1 Axes>"
      ]
     },
     "metadata": {},
     "output_type": "display_data"
    }
   ],
   "source": [
    "upS=pd_data.loc[((pd_data['port']==443))].groupby(['src_ip'])['up_bytes'].sum().hist()\n",
    "plt.show()"
   ]
  },
  {
   "cell_type": "code",
   "execution_count": 39,
   "id": "81251e4b-4599-47e7-beb0-9f780d582a59",
   "metadata": {},
   "outputs": [],
   "source": [
    "\n",
    "NET=ipaddress.IPv4Network('192.168.107.0/24')\n",
    "bpublic=pd_data.apply(lambda x: ipaddress.IPv4Address(x['dst_ip']) not in NET,axis=1) \n",
    "cc=pd_data[bpublic]['dst_ip'].apply(lambda y:gi.country_code_by_addr(y)).to_frame(name='cc') "
   ]
  },
  {
   "cell_type": "code",
   "execution_count": 36,
   "id": "f572458f-0c66-4ea5-b83b-861bb7bd68d8",
   "metadata": {},
   "outputs": [
    {
     "data": {
      "text/html": [
       "<div>\n",
       "<style scoped>\n",
       "    .dataframe tbody tr th:only-of-type {\n",
       "        vertical-align: middle;\n",
       "    }\n",
       "\n",
       "    .dataframe tbody tr th {\n",
       "        vertical-align: top;\n",
       "    }\n",
       "\n",
       "    .dataframe thead th {\n",
       "        text-align: right;\n",
       "    }\n",
       "</style>\n",
       "<table border=\"1\" class=\"dataframe\">\n",
       "  <thead>\n",
       "    <tr style=\"text-align: right;\">\n",
       "      <th></th>\n",
       "      <th>cc</th>\n",
       "    </tr>\n",
       "    <tr>\n",
       "      <th>index</th>\n",
       "      <th></th>\n",
       "    </tr>\n",
       "  </thead>\n",
       "  <tbody>\n",
       "    <tr>\n",
       "      <th>709945</th>\n",
       "      <td></td>\n",
       "    </tr>\n",
       "    <tr>\n",
       "      <th>709946</th>\n",
       "      <td></td>\n",
       "    </tr>\n",
       "    <tr>\n",
       "      <th>709947</th>\n",
       "      <td></td>\n",
       "    </tr>\n",
       "    <tr>\n",
       "      <th>709948</th>\n",
       "      <td>PT</td>\n",
       "    </tr>\n",
       "    <tr>\n",
       "      <th>709949</th>\n",
       "      <td>PT</td>\n",
       "    </tr>\n",
       "    <tr>\n",
       "      <th>...</th>\n",
       "      <td>...</td>\n",
       "    </tr>\n",
       "    <tr>\n",
       "      <th>268130</th>\n",
       "      <td>PT</td>\n",
       "    </tr>\n",
       "    <tr>\n",
       "      <th>268131</th>\n",
       "      <td>PT</td>\n",
       "    </tr>\n",
       "    <tr>\n",
       "      <th>268132</th>\n",
       "      <td>PT</td>\n",
       "    </tr>\n",
       "    <tr>\n",
       "      <th>268133</th>\n",
       "      <td>PT</td>\n",
       "    </tr>\n",
       "    <tr>\n",
       "      <th>268134</th>\n",
       "      <td>PT</td>\n",
       "    </tr>\n",
       "  </tbody>\n",
       "</table>\n",
       "<p>1025071 rows × 1 columns</p>\n",
       "</div>"
      ],
      "text/plain": [
       "        cc\n",
       "index     \n",
       "709945    \n",
       "709946    \n",
       "709947    \n",
       "709948  PT\n",
       "709949  PT\n",
       "...     ..\n",
       "268130  PT\n",
       "268131  PT\n",
       "268132  PT\n",
       "268133  PT\n",
       "268134  PT\n",
       "\n",
       "[1025071 rows x 1 columns]"
      ]
     },
     "execution_count": 36,
     "metadata": {},
     "output_type": "execute_result"
    }
   ],
   "source": [
    "cc"
   ]
  },
  {
   "cell_type": "code",
   "execution_count": 40,
   "id": "1ee1c7b9-f13c-4797-b348-3ed4a524873d",
   "metadata": {},
   "outputs": [
    {
     "name": "stdout",
     "output_type": "stream",
     "text": [
      "dst_ip\n",
      "192.168.107.227    12129897\n",
      "192.168.107.234    12284959\n",
      "Name: up_bytes, dtype: int64\n"
     ]
    }
   ],
   "source": [
    "\n",
    "dns1 = pd_data.loc[(pd_data['proto']=='udp') & (pd_data['port']==53)].groupby(['dst_ip'])['up_bytes'].sum()\n",
    "print(dns1) "
   ]
  }
 ],
 "metadata": {
  "kernelspec": {
   "display_name": "Python 3 (ipykernel)",
   "language": "python",
   "name": "python3"
  },
  "language_info": {
   "codemirror_mode": {
    "name": "ipython",
    "version": 3
   },
   "file_extension": ".py",
   "mimetype": "text/x-python",
   "name": "python",
   "nbconvert_exporter": "python",
   "pygments_lexer": "ipython3",
   "version": "3.10.12"
  }
 },
 "nbformat": 4,
 "nbformat_minor": 5
}
